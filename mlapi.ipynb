{
 "cells": [
  {
   "attachments": {},
   "cell_type": "markdown",
   "metadata": {},
   "source": [
    "## Problema\n",
    "\n",
    "El problema consiste en predecir la probabilidad de atraso de los vuelos que aterrizan o despegan del aeropuerto de Santiago\n",
    "de Chile (SCL). Para eso les entregamos un dataset usando datos públicos y reales donde cada fila corresponde a un vuelo\n",
    "que aterrizó o despegó de SCL. Para cada vuelo se cuenta con la siguiente información:\n",
    "\n",
    "* **Fecha-I** : Fecha y hora programada del vuelo.\n",
    "* **Vlo-I** : Número de vuelo programado.\n",
    "* **Ori-I** : Código de ciudad de origen programado.\n",
    "* **Des-I** : Código de ciudad de destino programado.\n",
    "* **Emp-I** : Código aerolínea de vuelo programado.\n",
    "* **Fecha-O** : Fecha y hora de operación del vuelo.\n",
    "* **Vlo-O** : Número de vuelo de operación del vuelo.\n",
    "* **Ori-O** : Código de ciudad de origen de operación\n",
    "* **Des-O** : Código de ciudad de destino de operación.\n",
    "* **Emp-O** : Código aerolínea de vuelo operado.\n",
    "* **DIA** : Día del mes de operación del vuelo.\n",
    "* **MES** : Número de mes de operación del vuelo.\n",
    "* **AÑO** : Año de operación del vuelo.\n",
    "* **DIANOM** : Día de la semana de operación del vuelo.\n",
    "* **TIPOVUELO** : Tipo de vuelo, I =Internacional, N =Nacional.\n",
    "* **OPERA** : Nombre de aerolínea que opera.\n",
    "* **SIGLAORI** : Nombre ciudad origen.\n",
    "* **SIGLADES** : Nombre ciudad destino."
   ]
  },
  {
   "attachments": {},
   "cell_type": "markdown",
   "metadata": {},
   "source": [
    "## 1. Cargar Librerías"
   ]
  },
  {
   "cell_type": "code",
   "execution_count": 1,
   "metadata": {},
   "outputs": [],
   "source": [
    "from sklearn.model_selection import cross_val_score\n",
    "from sklearn.utils import resample\n",
    "import pandas as pd\n",
    "import numpy as np\n",
    "import seaborn as sns\n",
    "from sklearn.metrics import confusion_matrix, classification_report\n",
    "from sklearn.metrics import average_precision_score\n",
    "from datetime import datetime\n",
    "\n",
    "\n",
    "### package importing: \n",
    "from flightPredictor.dataHandler import splitter,  transformations\n",
    "from flightPredictor.models import modelFactory as mf\n",
    "from geopy.geocoders import Nominatim \n",
    "import missingno as msng\n",
    "import matplotlib.pyplot as plt"
   ]
  },
  {
   "attachments": {},
   "cell_type": "markdown",
   "metadata": {},
   "source": [
    "## Configuraciones"
   ]
  },
  {
   "cell_type": "code",
   "execution_count": 2,
   "metadata": {},
   "outputs": [],
   "source": [
    "plt.rcParams['figure.figsize'] = (10, 6)\n",
    "TEST_SIZE = 0.2\n",
    "VAL_SIZE = 0.2\n",
    "SPLITTER = splitter.dataSplitter(test_size=TEST_SIZE, val_size=VAL_SIZE)\n",
    "CLASSIFIER_FACTORY = mf.ModelFactory()\n",
    "PIPELINE_FACTORY = transformations.pipeGenerator()\n",
    "# geolocator variable that lets us find the longitude and latitude:\n",
    "GEOLOCATOR = Nominatim(user_agent=\"EDA\")\n"
   ]
  },
  {
   "attachments": {},
   "cell_type": "markdown",
   "metadata": {},
   "source": [
    "## 2. Definición de Columnas Basales"
   ]
  },
  {
   "cell_type": "code",
   "execution_count": 3,
   "metadata": {},
   "outputs": [],
   "source": [
    "BASE_COLUMNS = [\"OPERA\", \"TIPOVUELO\", \"MES\"]\n",
    "model_dictionary = {}"
   ]
  },
  {
   "attachments": {},
   "cell_type": "markdown",
   "metadata": {},
   "source": [
    "<!-- ## 4. Cargar datos -->"
   ]
  },
  {
   "attachments": {},
   "cell_type": "markdown",
   "metadata": {},
   "source": [
    "## 3. Cargar datos"
   ]
  },
  {
   "cell_type": "code",
   "execution_count": 4,
   "metadata": {},
   "outputs": [
    {
     "data": {
      "text/html": [
       "<div>\n",
       "<style scoped>\n",
       "    .dataframe tbody tr th:only-of-type {\n",
       "        vertical-align: middle;\n",
       "    }\n",
       "\n",
       "    .dataframe tbody tr th {\n",
       "        vertical-align: top;\n",
       "    }\n",
       "\n",
       "    .dataframe thead th {\n",
       "        text-align: right;\n",
       "    }\n",
       "</style>\n",
       "<table border=\"1\" class=\"dataframe\">\n",
       "  <thead>\n",
       "    <tr style=\"text-align: right;\">\n",
       "      <th></th>\n",
       "      <th>Fecha-I</th>\n",
       "      <th>Vlo-I</th>\n",
       "      <th>Ori-I</th>\n",
       "      <th>Des-I</th>\n",
       "      <th>Emp-I</th>\n",
       "      <th>Fecha-O</th>\n",
       "      <th>Vlo-O</th>\n",
       "      <th>Ori-O</th>\n",
       "      <th>Des-O</th>\n",
       "      <th>Emp-O</th>\n",
       "      <th>...</th>\n",
       "      <th>AÑO</th>\n",
       "      <th>DIANOM</th>\n",
       "      <th>TIPOVUELO</th>\n",
       "      <th>OPERA</th>\n",
       "      <th>SIGLAORI</th>\n",
       "      <th>SIGLADES</th>\n",
       "      <th>temporada_alta</th>\n",
       "      <th>dif_min</th>\n",
       "      <th>atraso_15</th>\n",
       "      <th>periodo_dia</th>\n",
       "    </tr>\n",
       "  </thead>\n",
       "  <tbody>\n",
       "    <tr>\n",
       "      <th>0</th>\n",
       "      <td>2017-01-01 23:30:00</td>\n",
       "      <td>226</td>\n",
       "      <td>SCEL</td>\n",
       "      <td>KMIA</td>\n",
       "      <td>AAL</td>\n",
       "      <td>2017-01-01 23:33:00</td>\n",
       "      <td>226</td>\n",
       "      <td>SCEL</td>\n",
       "      <td>KMIA</td>\n",
       "      <td>AAL</td>\n",
       "      <td>...</td>\n",
       "      <td>2017</td>\n",
       "      <td>Domingo</td>\n",
       "      <td>I</td>\n",
       "      <td>American Airlines</td>\n",
       "      <td>Santiago</td>\n",
       "      <td>Miami</td>\n",
       "      <td>1</td>\n",
       "      <td>3.0</td>\n",
       "      <td>0</td>\n",
       "      <td>noche</td>\n",
       "    </tr>\n",
       "    <tr>\n",
       "      <th>1</th>\n",
       "      <td>2017-01-02 23:30:00</td>\n",
       "      <td>226</td>\n",
       "      <td>SCEL</td>\n",
       "      <td>KMIA</td>\n",
       "      <td>AAL</td>\n",
       "      <td>2017-01-02 23:39:00</td>\n",
       "      <td>226</td>\n",
       "      <td>SCEL</td>\n",
       "      <td>KMIA</td>\n",
       "      <td>AAL</td>\n",
       "      <td>...</td>\n",
       "      <td>2017</td>\n",
       "      <td>Lunes</td>\n",
       "      <td>I</td>\n",
       "      <td>American Airlines</td>\n",
       "      <td>Santiago</td>\n",
       "      <td>Miami</td>\n",
       "      <td>1</td>\n",
       "      <td>9.0</td>\n",
       "      <td>0</td>\n",
       "      <td>noche</td>\n",
       "    </tr>\n",
       "    <tr>\n",
       "      <th>2</th>\n",
       "      <td>2017-01-03 23:30:00</td>\n",
       "      <td>226</td>\n",
       "      <td>SCEL</td>\n",
       "      <td>KMIA</td>\n",
       "      <td>AAL</td>\n",
       "      <td>2017-01-03 23:39:00</td>\n",
       "      <td>226</td>\n",
       "      <td>SCEL</td>\n",
       "      <td>KMIA</td>\n",
       "      <td>AAL</td>\n",
       "      <td>...</td>\n",
       "      <td>2017</td>\n",
       "      <td>Martes</td>\n",
       "      <td>I</td>\n",
       "      <td>American Airlines</td>\n",
       "      <td>Santiago</td>\n",
       "      <td>Miami</td>\n",
       "      <td>1</td>\n",
       "      <td>9.0</td>\n",
       "      <td>0</td>\n",
       "      <td>noche</td>\n",
       "    </tr>\n",
       "    <tr>\n",
       "      <th>3</th>\n",
       "      <td>2017-01-04 23:30:00</td>\n",
       "      <td>226</td>\n",
       "      <td>SCEL</td>\n",
       "      <td>KMIA</td>\n",
       "      <td>AAL</td>\n",
       "      <td>2017-01-04 23:33:00</td>\n",
       "      <td>226</td>\n",
       "      <td>SCEL</td>\n",
       "      <td>KMIA</td>\n",
       "      <td>AAL</td>\n",
       "      <td>...</td>\n",
       "      <td>2017</td>\n",
       "      <td>Miercoles</td>\n",
       "      <td>I</td>\n",
       "      <td>American Airlines</td>\n",
       "      <td>Santiago</td>\n",
       "      <td>Miami</td>\n",
       "      <td>1</td>\n",
       "      <td>3.0</td>\n",
       "      <td>0</td>\n",
       "      <td>noche</td>\n",
       "    </tr>\n",
       "    <tr>\n",
       "      <th>4</th>\n",
       "      <td>2017-01-05 23:30:00</td>\n",
       "      <td>226</td>\n",
       "      <td>SCEL</td>\n",
       "      <td>KMIA</td>\n",
       "      <td>AAL</td>\n",
       "      <td>2017-01-05 23:28:00</td>\n",
       "      <td>226</td>\n",
       "      <td>SCEL</td>\n",
       "      <td>KMIA</td>\n",
       "      <td>AAL</td>\n",
       "      <td>...</td>\n",
       "      <td>2017</td>\n",
       "      <td>Jueves</td>\n",
       "      <td>I</td>\n",
       "      <td>American Airlines</td>\n",
       "      <td>Santiago</td>\n",
       "      <td>Miami</td>\n",
       "      <td>1</td>\n",
       "      <td>-2.0</td>\n",
       "      <td>0</td>\n",
       "      <td>noche</td>\n",
       "    </tr>\n",
       "  </tbody>\n",
       "</table>\n",
       "<p>5 rows × 22 columns</p>\n",
       "</div>"
      ],
      "text/plain": [
       "               Fecha-I Vlo-I Ori-I Des-I Emp-I              Fecha-O Vlo-O  \\\n",
       "0  2017-01-01 23:30:00   226  SCEL  KMIA   AAL  2017-01-01 23:33:00   226   \n",
       "1  2017-01-02 23:30:00   226  SCEL  KMIA   AAL  2017-01-02 23:39:00   226   \n",
       "2  2017-01-03 23:30:00   226  SCEL  KMIA   AAL  2017-01-03 23:39:00   226   \n",
       "3  2017-01-04 23:30:00   226  SCEL  KMIA   AAL  2017-01-04 23:33:00   226   \n",
       "4  2017-01-05 23:30:00   226  SCEL  KMIA   AAL  2017-01-05 23:28:00   226   \n",
       "\n",
       "  Ori-O Des-O Emp-O  ...   AÑO     DIANOM  TIPOVUELO              OPERA  \\\n",
       "0  SCEL  KMIA   AAL  ...  2017    Domingo          I  American Airlines   \n",
       "1  SCEL  KMIA   AAL  ...  2017      Lunes          I  American Airlines   \n",
       "2  SCEL  KMIA   AAL  ...  2017     Martes          I  American Airlines   \n",
       "3  SCEL  KMIA   AAL  ...  2017  Miercoles          I  American Airlines   \n",
       "4  SCEL  KMIA   AAL  ...  2017     Jueves          I  American Airlines   \n",
       "\n",
       "   SIGLAORI SIGLADES temporada_alta dif_min  atraso_15  periodo_dia  \n",
       "0  Santiago    Miami              1     3.0          0        noche  \n",
       "1  Santiago    Miami              1     9.0          0        noche  \n",
       "2  Santiago    Miami              1     9.0          0        noche  \n",
       "3  Santiago    Miami              1     3.0          0        noche  \n",
       "4  Santiago    Miami              1    -2.0          0        noche  \n",
       "\n",
       "[5 rows x 22 columns]"
      ]
     },
     "execution_count": 4,
     "metadata": {},
     "output_type": "execute_result"
    }
   ],
   "source": [
    "# IMPORTAMOS LOS DATOS DE LA BASE DE DATOS ORIGINAL\n",
    "df_real = pd.read_csv(\"Datasets/dataset_SCL.csv\", low_memory=False)\n",
    "# IMPORTAMOS LAS FEATURES SINTETICAS\n",
    "df_synthetic = pd.read_csv(\"Datasets/synthetic_features.csv\", low_memory=False)\n",
    "# UNIMOS AMBOS DATAFRAMES\n",
    "df = pd.concat([df_real, df_synthetic], axis=1)\n",
    "# LOS MOSTRMOS:\n",
    "df.head()"
   ]
  },
  {
   "attachments": {},
   "cell_type": "markdown",
   "metadata": {},
   "source": [
    "# Corregir Tipo Dato: \n"
   ]
  },
  {
   "attachments": {},
   "cell_type": "markdown",
   "metadata": {},
   "source": [
    "# Revisando y eliminando features: \n",
    "En primera instancia, veamos la distribución que tiene la variable año en los datos"
   ]
  },
  {
   "cell_type": "code",
   "execution_count": 5,
   "metadata": {},
   "outputs": [
    {
     "data": {
      "text/plain": [
       "2017    68204\n",
       "2018        2\n",
       "Name: AÑO, dtype: int64"
      ]
     },
     "execution_count": 5,
     "metadata": {},
     "output_type": "execute_result"
    }
   ],
   "source": [
    "df[\"AÑO\"].value_counts()"
   ]
  },
  {
   "attachments": {},
   "cell_type": "markdown",
   "metadata": {},
   "source": [
    "Como se puede ver solamente existen dos fechas que tienen por año 2018. Esto significa que para el modelo a generar estas variables son irrelevantes. "
   ]
  },
  {
   "attachments": {},
   "cell_type": "markdown",
   "metadata": {},
   "source": [
    "Sumado a esto, las variables Fecha-O y dif_min son variables que no pueden ser entregadas al modelo porque se usan para generar las features de 15_atraso. Además, notemos que cualquier modelo que busquemos utilizar a futuro no puede tener esta información ya que tiene que partir el vuelo para poder saberlo, por lo que estas features también deben ser eliminadas. \n",
    "\n",
    "Veamos como distribuyen las variables Vlo-O, VLo-I: "
   ]
  },
  {
   "cell_type": "code",
   "execution_count": 6,
   "metadata": {},
   "outputs": [
    {
     "name": "stdout",
     "output_type": "stream",
     "text": [
      "Vlo-O tiene 861 valores diferentes \n",
      "Vlo-I tiene 584 valroes diferentes\n",
      " de los cuales 154 son iguales\n"
     ]
    }
   ],
   "source": [
    "vlo_o_count = df[\"Vlo-O\"].value_counts()\n",
    "vlo_i_count = df[\"Vlo-I\"].value_counts()\n",
    "\n",
    "print(f\"Vlo-O tiene {len(vlo_o_count)} valores diferentes \\nVlo-I tiene {len(vlo_i_count)} valroes diferentes\\n de los cuales {len(set(vlo_o_count).intersection(set(vlo_i_count)))} son iguales\")"
   ]
  },
  {
   "attachments": {},
   "cell_type": "markdown",
   "metadata": {},
   "source": [
    "Como podemos ver los valores de los vuelos tienen cerca de 600 valores diferentes, haciendo que sea una variable muy dispersa en el dataset, esto hará que no sea una buena variable para considerar y por ende también debe ser eliminada de los datos. "
   ]
  },
  {
   "cell_type": "code",
   "execution_count": 7,
   "metadata": {},
   "outputs": [
    {
     "data": {
      "text/plain": [
       "<Figure size 500x600 with 0 Axes>"
      ]
     },
     "metadata": {},
     "output_type": "display_data"
    },
    {
     "data": {
      "image/png": "[encoded data removed]",
      "text/plain": [
       "<Figure size 2500x1000 with 2 Axes>"
      ]
     },
     "metadata": {},
     "output_type": "display_data"
    }
   ],
   "source": [
    "plt.figure(figsize=(5, 6))\n",
    "\n",
    "# Generate the missingness matrix plot\n",
    "msng.matrix(df)\n",
    "\n",
    "# Show the plot\n",
    "plt.show()"
   ]
  },
  {
   "attachments": {},
   "cell_type": "markdown",
   "metadata": {},
   "source": [
    "Notemos que el periodo del día tiene un error en su definición, esto ya que tiene cerca de 2000 valores que son nulos. Veamos que sucedió: "
   ]
  },
  {
   "attachments": {},
   "cell_type": "markdown",
   "metadata": {},
   "source": [
    "Notemos que todas las horas que generan este problema son horas que se encuentren con horarios cerrados. Al ver el modelo de Juan, podemos notar que no considera los casos donde las horas son cerradas, por ejemplo las 500 de la mañana. Volveremos a definir al variable, pero esta vez considerando estos casos bordes."
   ]
  },
  {
   "cell_type": "code",
   "execution_count": 8,
   "metadata": {},
   "outputs": [
    {
     "data": {
      "text/html": [
       "<div>\n",
       "<style scoped>\n",
       "    .dataframe tbody tr th:only-of-type {\n",
       "        vertical-align: middle;\n",
       "    }\n",
       "\n",
       "    .dataframe tbody tr th {\n",
       "        vertical-align: top;\n",
       "    }\n",
       "\n",
       "    .dataframe thead th {\n",
       "        text-align: right;\n",
       "    }\n",
       "</style>\n",
       "<table border=\"1\" class=\"dataframe\">\n",
       "  <thead>\n",
       "    <tr style=\"text-align: right;\">\n",
       "      <th></th>\n",
       "      <th>Fecha-I</th>\n",
       "      <th>Vlo-I</th>\n",
       "      <th>Ori-I</th>\n",
       "      <th>Des-I</th>\n",
       "      <th>Emp-I</th>\n",
       "      <th>Fecha-O</th>\n",
       "      <th>Vlo-O</th>\n",
       "      <th>Ori-O</th>\n",
       "      <th>Des-O</th>\n",
       "      <th>Emp-O</th>\n",
       "      <th>...</th>\n",
       "      <th>AÑO</th>\n",
       "      <th>DIANOM</th>\n",
       "      <th>TIPOVUELO</th>\n",
       "      <th>OPERA</th>\n",
       "      <th>SIGLAORI</th>\n",
       "      <th>SIGLADES</th>\n",
       "      <th>temporada_alta</th>\n",
       "      <th>dif_min</th>\n",
       "      <th>atraso_15</th>\n",
       "      <th>periodo_dia</th>\n",
       "    </tr>\n",
       "  </thead>\n",
       "  <tbody>\n",
       "    <tr>\n",
       "      <th>652</th>\n",
       "      <td>2017-01-09 05:00:00</td>\n",
       "      <td>4495</td>\n",
       "      <td>SCEL</td>\n",
       "      <td>MPTO</td>\n",
       "      <td>CMP</td>\n",
       "      <td>2017-01-09 05:15:00</td>\n",
       "      <td>4495</td>\n",
       "      <td>SCEL</td>\n",
       "      <td>MPTO</td>\n",
       "      <td>CMP</td>\n",
       "      <td>...</td>\n",
       "      <td>2017</td>\n",
       "      <td>Lunes</td>\n",
       "      <td>I</td>\n",
       "      <td>Copa Air</td>\n",
       "      <td>Santiago</td>\n",
       "      <td>Ciudad de Panama</td>\n",
       "      <td>1</td>\n",
       "      <td>15.0</td>\n",
       "      <td>0</td>\n",
       "      <td>NaN</td>\n",
       "    </tr>\n",
       "    <tr>\n",
       "      <th>1040</th>\n",
       "      <td>2017-01-02 19:00:00</td>\n",
       "      <td>8075</td>\n",
       "      <td>SCEL</td>\n",
       "      <td>SBGL</td>\n",
       "      <td>TAM</td>\n",
       "      <td>2017-01-02 19:17:00</td>\n",
       "      <td>8075</td>\n",
       "      <td>SCEL</td>\n",
       "      <td>SBGL</td>\n",
       "      <td>TAM</td>\n",
       "      <td>...</td>\n",
       "      <td>2017</td>\n",
       "      <td>Lunes</td>\n",
       "      <td>I</td>\n",
       "      <td>Grupo LATAM</td>\n",
       "      <td>Santiago</td>\n",
       "      <td>Rio de Janeiro</td>\n",
       "      <td>1</td>\n",
       "      <td>17.0</td>\n",
       "      <td>1</td>\n",
       "      <td>NaN</td>\n",
       "    </tr>\n",
       "    <tr>\n",
       "      <th>1680</th>\n",
       "      <td>2017-01-05 12:00:00</td>\n",
       "      <td>108</td>\n",
       "      <td>SCEL</td>\n",
       "      <td>SCSE</td>\n",
       "      <td>SKU</td>\n",
       "      <td>2017-01-05 12:02:00</td>\n",
       "      <td>108</td>\n",
       "      <td>SCEL</td>\n",
       "      <td>SCSE</td>\n",
       "      <td>SKU</td>\n",
       "      <td>...</td>\n",
       "      <td>2017</td>\n",
       "      <td>Jueves</td>\n",
       "      <td>N</td>\n",
       "      <td>Sky Airline</td>\n",
       "      <td>Santiago</td>\n",
       "      <td>La Serena</td>\n",
       "      <td>1</td>\n",
       "      <td>2.0</td>\n",
       "      <td>0</td>\n",
       "      <td>NaN</td>\n",
       "    </tr>\n",
       "    <tr>\n",
       "      <th>1684</th>\n",
       "      <td>2017-01-12 12:00:00</td>\n",
       "      <td>108</td>\n",
       "      <td>SCEL</td>\n",
       "      <td>SCSE</td>\n",
       "      <td>SKU</td>\n",
       "      <td>2017-01-12 12:02:00</td>\n",
       "      <td>108</td>\n",
       "      <td>SCEL</td>\n",
       "      <td>SCSE</td>\n",
       "      <td>SKU</td>\n",
       "      <td>...</td>\n",
       "      <td>2017</td>\n",
       "      <td>Jueves</td>\n",
       "      <td>N</td>\n",
       "      <td>Sky Airline</td>\n",
       "      <td>Santiago</td>\n",
       "      <td>La Serena</td>\n",
       "      <td>1</td>\n",
       "      <td>2.0</td>\n",
       "      <td>0</td>\n",
       "      <td>NaN</td>\n",
       "    </tr>\n",
       "    <tr>\n",
       "      <th>1688</th>\n",
       "      <td>2017-01-19 12:00:00</td>\n",
       "      <td>108</td>\n",
       "      <td>SCEL</td>\n",
       "      <td>SCSE</td>\n",
       "      <td>SKU</td>\n",
       "      <td>2017-01-19 11:57:00</td>\n",
       "      <td>108</td>\n",
       "      <td>SCEL</td>\n",
       "      <td>SCSE</td>\n",
       "      <td>SKU</td>\n",
       "      <td>...</td>\n",
       "      <td>2017</td>\n",
       "      <td>Jueves</td>\n",
       "      <td>N</td>\n",
       "      <td>Sky Airline</td>\n",
       "      <td>Santiago</td>\n",
       "      <td>La Serena</td>\n",
       "      <td>1</td>\n",
       "      <td>-3.0</td>\n",
       "      <td>0</td>\n",
       "      <td>NaN</td>\n",
       "    </tr>\n",
       "  </tbody>\n",
       "</table>\n",
       "<p>5 rows × 22 columns</p>\n",
       "</div>"
      ],
      "text/plain": [
       "                  Fecha-I Vlo-I Ori-I Des-I Emp-I              Fecha-O Vlo-O  \\\n",
       "652   2017-01-09 05:00:00  4495  SCEL  MPTO   CMP  2017-01-09 05:15:00  4495   \n",
       "1040  2017-01-02 19:00:00  8075  SCEL  SBGL   TAM  2017-01-02 19:17:00  8075   \n",
       "1680  2017-01-05 12:00:00   108  SCEL  SCSE   SKU  2017-01-05 12:02:00   108   \n",
       "1684  2017-01-12 12:00:00   108  SCEL  SCSE   SKU  2017-01-12 12:02:00   108   \n",
       "1688  2017-01-19 12:00:00   108  SCEL  SCSE   SKU  2017-01-19 11:57:00   108   \n",
       "\n",
       "     Ori-O Des-O Emp-O  ...   AÑO  DIANOM  TIPOVUELO        OPERA  SIGLAORI  \\\n",
       "652   SCEL  MPTO   CMP  ...  2017   Lunes          I     Copa Air  Santiago   \n",
       "1040  SCEL  SBGL   TAM  ...  2017   Lunes          I  Grupo LATAM  Santiago   \n",
       "1680  SCEL  SCSE   SKU  ...  2017  Jueves          N  Sky Airline  Santiago   \n",
       "1684  SCEL  SCSE   SKU  ...  2017  Jueves          N  Sky Airline  Santiago   \n",
       "1688  SCEL  SCSE   SKU  ...  2017  Jueves          N  Sky Airline  Santiago   \n",
       "\n",
       "              SIGLADES temporada_alta dif_min  atraso_15  periodo_dia  \n",
       "652   Ciudad de Panama              1    15.0          0          NaN  \n",
       "1040    Rio de Janeiro              1    17.0          1          NaN  \n",
       "1680         La Serena              1     2.0          0          NaN  \n",
       "1684         La Serena              1     2.0          0          NaN  \n",
       "1688         La Serena              1    -3.0          0          NaN  \n",
       "\n",
       "[5 rows x 22 columns]"
      ]
     },
     "execution_count": 8,
     "metadata": {},
     "output_type": "execute_result"
    }
   ],
   "source": [
    "df[df[\"periodo_dia\"].isnull()].head()"
   ]
  },
  {
   "cell_type": "code",
   "execution_count": 9,
   "metadata": {},
   "outputs": [],
   "source": [
    "def get_periodo_dia(fecha):\n",
    "    fecha_time = datetime.strptime(fecha, '%Y-%m-%d %H:%M:%S').time()\n",
    "    mañana_min = datetime.strptime(\"05:00\", '%H:%M').time()\n",
    "    mañana_max = datetime.strptime(\"11:59\", '%H:%M').time()\n",
    "    tarde_min = datetime.strptime(\"12:00\", '%H:%M').time()\n",
    "    tarde_max = datetime.strptime(\"18:59\", '%H:%M').time()\n",
    "    noche_min1 = datetime.strptime(\"19:00\", '%H:%M').time()\n",
    "    noche_max1 = datetime.strptime(\"23:59\", '%H:%M').time()\n",
    "    noche_min2 = datetime.strptime(\"00:00\", '%H:%M').time()\n",
    "    noche_max2 = datetime.strptime(\"4:59\", '%H:%M').time()\n",
    "    \n",
    "    if(fecha_time >= mañana_min and fecha_time <= mañana_max):\n",
    "        return 'mañana'\n",
    "    elif(fecha_time >= tarde_min and fecha_time <= tarde_max):\n",
    "        return 'tarde'\n",
    "    elif((fecha_time >= noche_min1 and fecha_time <= noche_max1) or\n",
    "         (fecha_time >= noche_min2 and fecha_time <= noche_max2)):\n",
    "        return 'noche'"
   ]
  },
  {
   "cell_type": "code",
   "execution_count": 10,
   "metadata": {},
   "outputs": [],
   "source": [
    "df['periodo_dia'] = df['Fecha-I'].apply(get_periodo_dia)"
   ]
  },
  {
   "cell_type": "code",
   "execution_count": 11,
   "metadata": {},
   "outputs": [
    {
     "name": "stdout",
     "output_type": "stream",
     "text": [
      "<class 'pandas.core.frame.DataFrame'>\n",
      "RangeIndex: 68206 entries, 0 to 68205\n",
      "Data columns (total 22 columns):\n",
      " #   Column          Non-Null Count  Dtype  \n",
      "---  ------          --------------  -----  \n",
      " 0   Fecha-I         68206 non-null  object \n",
      " 1   Vlo-I           68206 non-null  object \n",
      " 2   Ori-I           68206 non-null  object \n",
      " 3   Des-I           68206 non-null  object \n",
      " 4   Emp-I           68206 non-null  object \n",
      " 5   Fecha-O         68206 non-null  object \n",
      " 6   Vlo-O           68205 non-null  object \n",
      " 7   Ori-O           68206 non-null  object \n",
      " 8   Des-O           68206 non-null  object \n",
      " 9   Emp-O           68206 non-null  object \n",
      " 10  DIA             68206 non-null  int64  \n",
      " 11  MES             68206 non-null  int64  \n",
      " 12  AÑO             68206 non-null  int64  \n",
      " 13  DIANOM          68206 non-null  object \n",
      " 14  TIPOVUELO       68206 non-null  object \n",
      " 15  OPERA           68206 non-null  object \n",
      " 16  SIGLAORI        68206 non-null  object \n",
      " 17  SIGLADES        68206 non-null  object \n",
      " 18  temporada_alta  68206 non-null  int64  \n",
      " 19  dif_min         68206 non-null  float64\n",
      " 20  atraso_15       68206 non-null  int64  \n",
      " 21  periodo_dia     68206 non-null  object \n",
      "dtypes: float64(1), int64(5), object(16)\n",
      "memory usage: 11.4+ MB\n"
     ]
    }
   ],
   "source": [
    "df.info()"
   ]
  },
  {
   "attachments": {},
   "cell_type": "markdown",
   "metadata": {},
   "source": [
    "Podemos ver que solucionamos el problema del periodo del día, también podemos notar que Vlo_O tiene un valor nulo en una de sus filas, esto a priori no genera problema ya que no es una variable que estemos pensando utilizar para la predicción. por lo que ahora pasaremos a transformar las columnas en sus tipos, por ejemplo la Fecha-I la pasaremos a tipo dataframe para poder utilizar los beneficios de este tipo de objetos."
   ]
  },
  {
   "cell_type": "code",
   "execution_count": 12,
   "metadata": {},
   "outputs": [],
   "source": [
    "df[\"Fecha-I\"] = pd.to_datetime(df[\"Fecha-I\"],  format='%Y-%m-%d %H:%M:%S')"
   ]
  },
  {
   "attachments": {},
   "cell_type": "markdown",
   "metadata": {},
   "source": [
    "Eliminaremos las columnas que dijimos que no eran de utilidad"
   ]
  },
  {
   "cell_type": "code",
   "execution_count": 13,
   "metadata": {},
   "outputs": [],
   "source": [
    "df.drop(columns= [\"AÑO\",\"Fecha-O\", \"dif_min\", \"Vlo-O\", \"Vlo-I\"], inplace=True)"
   ]
  },
  {
   "attachments": {},
   "cell_type": "markdown",
   "metadata": {},
   "source": [
    "Evitaremos tener datos de tipo object ya que así no tendremos problemas con los métodos de resampling: Para esto utilizaremos el pipeline generado el cual no permitirá hacer un encoding ordinal de los datos que sean de tipo categórico. El resto de esos valores será excluido de manera de no realizarles ninguna clase de codificación. Notemos que como el pipeline no les hace nada a los datos entregados que no estén en el diccionario de codificación, estos tenemos que pasarlos al final del dataframe para evitar cambios en los datos. "
   ]
  },
  {
   "cell_type": "code",
   "execution_count": 14,
   "metadata": {},
   "outputs": [],
   "source": [
    "exclude = [\"atraso_15\", \"DIA\", \"MES\", \"temporada_alta\", \"Fecha-I\"]\n",
    "features_to_encode = [a_column  for a_column in df.columns if not a_column in exclude]\n",
    "column_to_turn_categorical = {\"ordinal\":features_to_encode}\n",
    "categorical_pipeline = PIPELINE_FACTORY.generate_pipeline(column_to_turn_categorical)"
   ]
  },
  {
   "cell_type": "code",
   "execution_count": 15,
   "metadata": {},
   "outputs": [],
   "source": [
    "df = df[features_to_encode+exclude]"
   ]
  },
  {
   "attachments": {},
   "cell_type": "markdown",
   "metadata": {},
   "source": [
    "### Transformamos los datos"
   ]
  },
  {
   "cell_type": "code",
   "execution_count": 16,
   "metadata": {},
   "outputs": [],
   "source": [
    "df_encoded = pd.DataFrame(categorical_pipeline.fit_transform(df), columns=df.columns)"
   ]
  },
  {
   "cell_type": "code",
   "execution_count": 17,
   "metadata": {},
   "outputs": [],
   "source": [
    "df_encoded[\"HOUR-I\"] = df.apply(lambda x: 100*x[\"Fecha-I\"].hour+x[\"Fecha-I\"].minute, axis=1)"
   ]
  },
  {
   "cell_type": "code",
   "execution_count": 18,
   "metadata": {},
   "outputs": [
    {
     "data": {
      "text/html": [
       "<div>\n",
       "<style scoped>\n",
       "    .dataframe tbody tr th:only-of-type {\n",
       "        vertical-align: middle;\n",
       "    }\n",
       "\n",
       "    .dataframe tbody tr th {\n",
       "        vertical-align: top;\n",
       "    }\n",
       "\n",
       "    .dataframe thead th {\n",
       "        text-align: right;\n",
       "    }\n",
       "</style>\n",
       "<table border=\"1\" class=\"dataframe\">\n",
       "  <thead>\n",
       "    <tr style=\"text-align: right;\">\n",
       "      <th></th>\n",
       "      <th>Ori-I</th>\n",
       "      <th>Des-I</th>\n",
       "      <th>Emp-I</th>\n",
       "      <th>Ori-O</th>\n",
       "      <th>Des-O</th>\n",
       "      <th>Emp-O</th>\n",
       "      <th>DIANOM</th>\n",
       "      <th>TIPOVUELO</th>\n",
       "      <th>OPERA</th>\n",
       "      <th>SIGLAORI</th>\n",
       "      <th>SIGLADES</th>\n",
       "      <th>periodo_dia</th>\n",
       "      <th>atraso_15</th>\n",
       "      <th>DIA</th>\n",
       "      <th>MES</th>\n",
       "      <th>temporada_alta</th>\n",
       "      <th>Fecha-I</th>\n",
       "      <th>HOUR-I</th>\n",
       "    </tr>\n",
       "  </thead>\n",
       "  <tbody>\n",
       "    <tr>\n",
       "      <th>0</th>\n",
       "      <td>0.0</td>\n",
       "      <td>9.0</td>\n",
       "      <td>0.0</td>\n",
       "      <td>0.0</td>\n",
       "      <td>10.0</td>\n",
       "      <td>2.0</td>\n",
       "      <td>0.0</td>\n",
       "      <td>0.0</td>\n",
       "      <td>5.0</td>\n",
       "      <td>0.0</td>\n",
       "      <td>34.0</td>\n",
       "      <td>1.0</td>\n",
       "      <td>0</td>\n",
       "      <td>1</td>\n",
       "      <td>1</td>\n",
       "      <td>1</td>\n",
       "      <td>2017-01-01 23:30:00</td>\n",
       "      <td>2330</td>\n",
       "    </tr>\n",
       "    <tr>\n",
       "      <th>1</th>\n",
       "      <td>0.0</td>\n",
       "      <td>9.0</td>\n",
       "      <td>0.0</td>\n",
       "      <td>0.0</td>\n",
       "      <td>10.0</td>\n",
       "      <td>2.0</td>\n",
       "      <td>2.0</td>\n",
       "      <td>0.0</td>\n",
       "      <td>5.0</td>\n",
       "      <td>0.0</td>\n",
       "      <td>34.0</td>\n",
       "      <td>1.0</td>\n",
       "      <td>0</td>\n",
       "      <td>2</td>\n",
       "      <td>1</td>\n",
       "      <td>1</td>\n",
       "      <td>2017-01-02 23:30:00</td>\n",
       "      <td>2330</td>\n",
       "    </tr>\n",
       "    <tr>\n",
       "      <th>2</th>\n",
       "      <td>0.0</td>\n",
       "      <td>9.0</td>\n",
       "      <td>0.0</td>\n",
       "      <td>0.0</td>\n",
       "      <td>10.0</td>\n",
       "      <td>2.0</td>\n",
       "      <td>3.0</td>\n",
       "      <td>0.0</td>\n",
       "      <td>5.0</td>\n",
       "      <td>0.0</td>\n",
       "      <td>34.0</td>\n",
       "      <td>1.0</td>\n",
       "      <td>0</td>\n",
       "      <td>3</td>\n",
       "      <td>1</td>\n",
       "      <td>1</td>\n",
       "      <td>2017-01-03 23:30:00</td>\n",
       "      <td>2330</td>\n",
       "    </tr>\n",
       "    <tr>\n",
       "      <th>3</th>\n",
       "      <td>0.0</td>\n",
       "      <td>9.0</td>\n",
       "      <td>0.0</td>\n",
       "      <td>0.0</td>\n",
       "      <td>10.0</td>\n",
       "      <td>2.0</td>\n",
       "      <td>4.0</td>\n",
       "      <td>0.0</td>\n",
       "      <td>5.0</td>\n",
       "      <td>0.0</td>\n",
       "      <td>34.0</td>\n",
       "      <td>1.0</td>\n",
       "      <td>0</td>\n",
       "      <td>4</td>\n",
       "      <td>1</td>\n",
       "      <td>1</td>\n",
       "      <td>2017-01-04 23:30:00</td>\n",
       "      <td>2330</td>\n",
       "    </tr>\n",
       "    <tr>\n",
       "      <th>4</th>\n",
       "      <td>0.0</td>\n",
       "      <td>9.0</td>\n",
       "      <td>0.0</td>\n",
       "      <td>0.0</td>\n",
       "      <td>10.0</td>\n",
       "      <td>2.0</td>\n",
       "      <td>1.0</td>\n",
       "      <td>0.0</td>\n",
       "      <td>5.0</td>\n",
       "      <td>0.0</td>\n",
       "      <td>34.0</td>\n",
       "      <td>1.0</td>\n",
       "      <td>0</td>\n",
       "      <td>5</td>\n",
       "      <td>1</td>\n",
       "      <td>1</td>\n",
       "      <td>2017-01-05 23:30:00</td>\n",
       "      <td>2330</td>\n",
       "    </tr>\n",
       "  </tbody>\n",
       "</table>\n",
       "</div>"
      ],
      "text/plain": [
       "  Ori-I Des-I Emp-I Ori-O Des-O Emp-O DIANOM TIPOVUELO OPERA SIGLAORI  \\\n",
       "0   0.0   9.0   0.0   0.0  10.0   2.0    0.0       0.0   5.0      0.0   \n",
       "1   0.0   9.0   0.0   0.0  10.0   2.0    2.0       0.0   5.0      0.0   \n",
       "2   0.0   9.0   0.0   0.0  10.0   2.0    3.0       0.0   5.0      0.0   \n",
       "3   0.0   9.0   0.0   0.0  10.0   2.0    4.0       0.0   5.0      0.0   \n",
       "4   0.0   9.0   0.0   0.0  10.0   2.0    1.0       0.0   5.0      0.0   \n",
       "\n",
       "  SIGLADES periodo_dia atraso_15 DIA MES temporada_alta             Fecha-I  \\\n",
       "0     34.0         1.0         0   1   1              1 2017-01-01 23:30:00   \n",
       "1     34.0         1.0         0   2   1              1 2017-01-02 23:30:00   \n",
       "2     34.0         1.0         0   3   1              1 2017-01-03 23:30:00   \n",
       "3     34.0         1.0         0   4   1              1 2017-01-04 23:30:00   \n",
       "4     34.0         1.0         0   5   1              1 2017-01-05 23:30:00   \n",
       "\n",
       "   HOUR-I  \n",
       "0    2330  \n",
       "1    2330  \n",
       "2    2330  \n",
       "3    2330  \n",
       "4    2330  "
      ]
     },
     "execution_count": 18,
     "metadata": {},
     "output_type": "execute_result"
    }
   ],
   "source": [
    "df_encoded.head()"
   ]
  },
  {
   "attachments": {},
   "cell_type": "markdown",
   "metadata": {},
   "source": [
    "# 4.1 Pregunta 1:\n",
    "Escoge el modelo que a tu criterio tenga un mejor performance, argumentando tu decisión.\n",
    "\n",
    "\n",
    "**Respuesta:** \n",
    "La pregunta sobre que modelo es mejor, tiene directa relación con el problema a resolver. Como se indica en el enunciado del Jupyter notebook de Juan, el problema definido es el de predecir el retraso de aviones. De esta manera, a la hora de saber que modelo es mejor es necesario comparar la métrica que mejor represente el comportamiento que queremos del modelo. De este modo, a continuación y a modo de resumen adjunto los resultados obtenidos por los modelos entrenados en el notebook de Juan. \n",
    "\n",
    "### Modelo de Regresión Logística: \n",
    "|   | precision | recall | f1-score | support |\n",
    "|---|-----------|--------|----------|---------|\n",
    "| 0 | 0.82      | 1      | 0.9      | 18403   |\n",
    "| 1 | 0.57      | 0.03   | 0.06     | 4105    |\n",
    "### Modelo XGBoost\n",
    "|   | precision | recall | f1-score | support |\n",
    "|---|-----------|--------|----------|---------|\n",
    "| 0 | 0.82      | 1      | 0.9      | 18403   |\n",
    "| 1 | 0.67      | 0.02   | 0.04     | 4105    |\n",
    "### Modelo XGBoost con mejores Features:\n",
    "|   | precision | recall | f1-score | support |\n",
    "|---|-----------|--------|----------|---------|\n",
    "| 0 | 0.82      | 1      | 0.9      | 18403   |\n",
    "| 1 | 0.66      | 0.01   | 0.03     | 4105    |\n",
    "### Modelo XGBoost con upsampled data \n",
    "|   | precision | recall | f1-score | support |\n",
    "|---|-----------|--------|----------|---------|\n",
    "| 0 | 0.68      | 0.93   | 0.79     | 18403   |\n",
    "| 1 | 0.62      | 0.19   | 0.3      | 9897    |"
   ]
  },
  {
   "attachments": {},
   "cell_type": "markdown",
   "metadata": {},
   "source": [
    "La predicción de retrasos en aviones para las aerolines tiene beneficios no solamente para los pasajeros, sino que para la aerolínea también. Desde un punto de vista puramente de costos operacionales según <a href=https://www.airlines.org/dataset/u-s-passenger-carrier-delay-costs>Airlines for America</a> el costo por minuto de \"Block time\" ronda los $80 dólares (cifras 2021), este tiempo considera el minuto desde que el avión cierra sus puertas hasta el instante en que este llega a la compuerta en su destino. Considerando lo anterior un avión que sufra retrasos tendrá un costo tanto por su tiempo de vuelo como además el tiempo que utilice para llegar a la compuerta. \n",
    "\n",
    "Además del costo anterior, existe un costo económico que debe ser considerado, ya que según <a href=https://www.sernac.cl/portal/607/w3-article-5594.html>Sernac</a> los pasajeros que sufran por retrasos en sus vuelos tienen, en algunos casos, derecho a una indemnización. Esto sumado a la entrega de una mala experiencia para los usuarios que es fundamental para cualquier aerolínes, ya que parte importante de la competencia existente entre ellas es tanto el precio como la experiencia de viaje que puedan proporcionarle al usuario. \n",
    "\n",
    "Debido a esto, al momento de desarrollar un modelo que realice predicciones sobre el retraso de los vuelos de aviones, la consideración más importante es la cantidad de vuelos que efectivamente llegaron tarde y fueron seleccionados por el modelo. Tener seguridad de que el modelo presentado tiene una alta taza de recall sobre la clase de retraso es importante ya que permite que la aerolínea al saber sobre dicho retraso pueda tomar acción desde el punto de vista de la gestión de tanto el vuelo como del pasajero, además es importante que la tasa de precisión no sea baja ya que también es importante que la detección de atrasos no tenga falsos positivos.  \n",
    "\n",
    "De este modo, si se consideran los modelos entrenados en el notebook de Juan, se podrá ver que el modelo de recall con upsampling tiene el mayor recall de todos, pero al momento de hacer dicho aumento de muestras dicho aumento fue realizado también sobre la clase de prueba, por lo que los resultados encontrados en esa corrida del algoritmo están sesgados a que la distribución de clases presentes en los datos de testeo no son los originales. Debido a esto es necesario correr nuevamente dicho algoritmo."
   ]
  },
  {
   "attachments": {},
   "cell_type": "markdown",
   "metadata": {},
   "source": [
    "## 5. Muestra original de los  datos"
   ]
  },
  {
   "attachments": {},
   "cell_type": "markdown",
   "metadata": {},
   "source": [
    "### 5.1 Modelo Basal"
   ]
  },
  {
   "attachments": {},
   "cell_type": "markdown",
   "metadata": {},
   "source": [
    "<ol>\n",
    "  <p>Para este modelo las columnas que se utilizarán serán las mismas utilizadas en el notebook anterior. Dichas columnas son las siguientes: </p>\n",
    "  <li>OPERA</li>\n",
    "  <li>TIPOVUELO</li>\n",
    "  <li>MES</li>\n",
    "</ol>"
   ]
  },
  {
   "attachments": {},
   "cell_type": "markdown",
   "metadata": {},
   "source": [
    "Un punto importante a considerar en el notebook, es que al momento de extraer los datos se utilizan las siguientes columnas:\n",
    "'OPERA', 'MES', 'TIPOVUELO', 'SIGLADES', 'DIANOM', 'atraso_15'\n",
    "\n",
    "Pero al momento de generar los datos para entrenar los modelos no son utilizadas todas las columnas. Por esto, el modelo que se genera solamente trabajará con: 'OPERA', 'MES', 'TIPOVUELO'. Lo anterior se hace para poder entrenar el modelo basal. \n",
    "\n",
    "A continuación, se muestra la linea de la celda textual (sección 4.) que genera los datos para los modelos de predicción:\n",
    "\n",
    "features = pd.concat([pd.get_dummies(data['OPERA'], prefix = 'OPERA'),pd.get_dummies(data['TIPOVUELO'], prefix = 'TIPOVUELO'), pd.get_dummies(data['MES'], prefix = 'MES')], axis = 1)\n",
    "\n",
    "\n",
    "\n"
   ]
  },
  {
   "cell_type": "code",
   "execution_count": 19,
   "metadata": {},
   "outputs": [],
   "source": [
    "# generando datos iniciales\n",
    "X = df_encoded[BASE_COLUMNS]\n",
    "# obteniendo los targets\n",
    "Y = df_encoded[\"atraso_15\"].astype(bool)"
   ]
  },
  {
   "cell_type": "code",
   "execution_count": 20,
   "metadata": {},
   "outputs": [],
   "source": [
    "# usar el modelo de split para generar el diccionario de splitting que buscamos\n",
    "split_dict = SPLITTER.split(X, Y)"
   ]
  },
  {
   "attachments": {},
   "cell_type": "markdown",
   "metadata": {},
   "source": [
    "### Distribución de los datos:"
   ]
  },
  {
   "cell_type": "code",
   "execution_count": 21,
   "metadata": {},
   "outputs": [
    {
     "name": "stdout",
     "output_type": "stream",
     "text": [
      "Cantidad de vuelos 68206 Cantidad de atrasos 12614 Porcentaje de vuelos atrasados en dataset:0.18493974137172683\n",
      "Cantidad de vuelos train 43651 Cantidad de atrasos 8149 Porcentaje de vuelos atrasados en dataset:0.18668529930585784\n",
      "Cantidad de vuelos validación 10913 Cantidad de atrasos 2029 Porcentaje de vuelos atrasados en dataset:0.18592504352606984\n",
      "Cantidad de vuelos test 13642 Cantidad de atrasos 2436 Porcentaje de vuelos atrasados en dataset:0.17856619264037532\n"
     ]
    }
   ],
   "source": [
    "print(f\"Cantidad de vuelos {Y.count()}\",f\"Cantidad de atrasos {Y.sum()}\", f\"Porcentaje de vuelos atrasados en dataset:{Y.sum()/Y.count()}\")\n",
    "SPLITTER.show_split(split_dict)"
   ]
  },
  {
   "attachments": {},
   "cell_type": "markdown",
   "metadata": {},
   "source": [
    "Podemos ver como la distribución de los conjuntos es prácticamente la misma, por lo que el modelo al entrenar en estos conjuntos debiese encontrarse con distribuciones parecidas en los datos y no afectadas. "
   ]
  },
  {
   "attachments": {},
   "cell_type": "markdown",
   "metadata": {},
   "source": [
    "## 5.1.2Pregunta 2: \n",
    "Implementa mejoras sobre el modelo escogiendo la o las técnicas que prefieras\n",
    "\n",
    "### Respuesta: \n",
    "Para mejorar el modelo es necesario considerar en primera instancia que clase de modelo estamos generando y si dicho modelo es el correcto para resolver el problema, además de estos es necesario considerar las funciones objetivo que dicho modelo utiliza para asegurarnos que estas funciones objetivo generan el efecto que se está buscando en este proyecto.\n",
    "De esta manera, se puede descartar que el error de dicha implementación sea el uso de XGBoost, que es de los mejores modelos utilizados en la página kaggle, en específico en una gran cantidad de problemas de clasificación tanto multiclase como binario. De esta manera, aunque el tipo de modelo que se está utilizando no debe ser el problema talvés la manera en que se está inicializando y evaluando dicho modelo puede tener cierto espacio de mejora. \n",
    "\n",
    "Una de las primeras mejoras propuestas es el uso de un conjunto de validación que le permita al algoritmo ajustarse adecuadamente a la distribución real de los datos. Dicho conjunto de validación no se verá afectado por el efecto del cambio de distribución de los datos, permitiendo de este modo que el modelo sea fidedigno con la distribución original. Además, se define que la métrica a utilizar es el AUCPR (Área bajo la curva de Precisión-recall) los modelos que se evalúan con las curvas ROC sobre conjuntos de datos desbalanceados, tienden a sufrir de sobre ajusta con la clase mayoritaria, ya que las curvas roc contemplan en su cálculo la tasa de Verdaderos Negativos, que en caso de conjuntos de datos desbalanceados puede ser muy alta. Las curvas Precisión-recall por el otro lado no tienen esta dependencia y por ende no tienen dicho problema. \n",
    "\n",
    "Otra mejora que se implementará será cambiar el tipo de codificación de los datos de one hot encoding a un encoding ordinario, la razón de dicho cambio se debe al algoritmo que se está utilizando, como los algoritmos con árboles de decisión hacen particiones sobre los features, es más fácil para dicho algoritmo separar menos features en comparación a más. \n",
    "\n",
    "De esta manera, para generar mejoras sobre el modelo, en primera instancia se obtendrán los datos generados en el jupyter notebook de Juan y se correrá el modelo con dichos datos, de esta manera, los pasos con los que se intentará mejorar dicho modelo son los siguientes: \n",
    "<ol>\n",
    "  <p>Con los features obtenidos por Juan:</p>\n",
    "  <li>Se correrá el modelo basal con los datos entregados para tener un punto de comparación</li>\n",
    "  <li>Se correrá el modelo con una mayor taza de oversampling</li>\n",
    "  <li>Se realizará oversampling utilizando métodos más complejos de oversampling como es SMOTE</li>\n",
    "  <li>Se realizará oversampling con SMOTE y random undersampling (siendo este la manera recomendada de corre dicho algoritmo)</li>\n",
    "  \n",
    "  <p>Uso de otros features:</p>\n",
    "  <li>Se Utilizarán más features para así enriquecer el modelo generado</li>\n",
    "  <li>Se obtendrán resultados con los mismos métodos de over y under sampling anteriormente mencionados</li>\n",
    "   <p>Paso final:</p>\n",
    "  <li>Grid Search sobre los parámetros del modelo</li>\n",
    "</ol>\n",
    "\n",
    "En cada una de las dos etapas propuestas se generará un conjunto de test el cual viene directamente de los datos muestreados y no presenta modificaciones con respecto a las proporciones originales que presenta dicho dataset. "
   ]
  },
  {
   "attachments": {},
   "cell_type": "markdown",
   "metadata": {},
   "source": [
    "# Recreación del modelo: \n",
    "Para facilitar la creación de modelos creamos dentro del paquete flightPredictions un archivo llamado modelFactory, este modelo permite la generación de clasificadores, entregando el nombre del clasificador y luego sus argumentos para crearlo. En este caso crearemos un modelo de XGBoost. "
   ]
  },
  {
   "cell_type": "code",
   "execution_count": 51,
   "metadata": {},
   "outputs": [],
   "source": [
    "model_xgb_base = CLASSIFIER_FACTORY.build_model(\"xgboost\", objective= 'binary:logistic', learning_rate=0.1,n_estimators= 100, subsample= 0.5, eval_metric='aucpr')"
   ]
  },
  {
   "attachments": {},
   "cell_type": "markdown",
   "metadata": {},
   "source": [
    "Para el entrenamiento del modelo es necesario indicarle como trataremos las columnas del dataset, en este caso es importante notar que no le hemos hecho ningún tipo de preprocesamiento. Solamente es necesario considerar que valores nulos no entren al modelo. De este modo, para entrenar dicha estructura se debe entregar un diccionario de codificación, dicho diccionario permite que el modelo genere los pipelines necesarios para trabajar con los datos. De este modo, los tipos de encoders que se encuentran disponibles son los siguientes: \n",
    "1. ordinal: encoder para features categóricas, las transforma en números.\n",
    "2. one-hot: encoder para variables categóricas, transforma dichas columnas en representaciones binarias. \n",
    "3. scale: encoder que permite que escalar los features. \n",
    "4. cyclic-hour: representación mediante senos y cosenos que permite mostrar la relación cíclica que existe entre las horas por ejemplo las 23:59 y las 00:00\n",
    "5. cyclic-month: representación también mediante senos y consenos que permite mostrar la relación cíclica que existe entre los meses por ejemplo: Enero y Diciembre. "
   ]
  },
  {
   "attachments": {},
   "cell_type": "markdown",
   "metadata": {},
   "source": [
    "De este modo, podemos ver que se pudo regenerar los resultados obtenidos por Juan. A para poder seleccionar el mejor modelo se procederá a guardar los resultados y así una vez que se corra todo el notebook poder elegir el mejor modelo. La metrica que utilizaremos será el average_precision_score de sklearn el cual calcula el área de la curva precision-recall, esta permite explicar de manera correcta los resultados obtenidos ya que es una métrica que al no considerar los verdaderos negativos, nos permite ajustar los resultados justamente a la clase buscada. "
   ]
  },
  {
   "cell_type": "code",
   "execution_count": 52,
   "metadata": {},
   "outputs": [],
   "source": [
    "encoding_dict = {\"one-hot\": [\"OPERA\", \"TIPOVUELO\", \"MES\"]}\n",
    "model_xgb_base.fit(split_dict, encoding_dict)"
   ]
  },
  {
   "cell_type": "code",
   "execution_count": 53,
   "metadata": {},
   "outputs": [
    {
     "name": "stdout",
     "output_type": "stream",
     "text": [
      "              precision    recall  f1-score   support\n",
      "\n",
      "       False       0.83      1.00      0.90     11206\n",
      "        True       0.67      0.05      0.09      2436\n",
      "\n",
      "    accuracy                           0.83     13642\n",
      "   macro avg       0.75      0.52      0.49     13642\n",
      "weighted avg       0.80      0.83      0.76     13642\n",
      "\n"
     ]
    }
   ],
   "source": [
    "x_test, y_test = split_dict[\"test\"]\n",
    "predicted_xgb = model_xgb_base.predict(x_test)\n",
    "print(classification_report(y_test, predicted_xgb))"
   ]
  },
  {
   "cell_type": "code",
   "execution_count": 54,
   "metadata": {},
   "outputs": [],
   "source": [
    "model_dictionary[\"modelxgb_base\"]= average_precision_score(y_test, predicted_xgb)\n"
   ]
  },
  {
   "attachments": {},
   "cell_type": "markdown",
   "metadata": {},
   "source": [
    "## 6. Oversampling SMOTE"
   ]
  },
  {
   "attachments": {},
   "cell_type": "markdown",
   "metadata": {},
   "source": [
    "<a href=https://arxiv.org/pdf/1106.1813.pdf>SMOTE</a> (Synthetic Minority Over-Sampling Technique) es un paper publicado el año 2002 en la revista Journal of Artificial Intelligence Research, el método propuesto se plantea como una opción para el método de undersampling o oversampling que se utiliza en muchos casos en la práctica cuando se tienen clases desbalanceadas. En específico, lo que hace este método es generar datos sintéticos de la clase minoritaria para así generar un oversampling de esta, en específico, el método genera muestras utilizando los k-vecinos más cercanos y realizando una perturbación de los features de la muestra en la dirección de dicho vecino. \n",
    "\n",
    "El método al hacer esta generación de datos sintéticos en la dirección de uno de sus vecinos más cercanos lo que hace es forzar la generalización de la zona de decisión de la clase minoritaria. Como hiper parpametro este algoritmo utiliza el porcentaje de oversampling que se desea realizar de esta. Además, en este trabajo utilizan una mezcla entre primero hacer uso del algoritmo SMOTE y luego realizar un undersampling sobre la clase mayoritaria. Para intentar mejorar dicho modelo haremos los dos métodos y veremos cual es mejor. "
   ]
  },
  {
   "attachments": {},
   "cell_type": "markdown",
   "metadata": {},
   "source": [
    "### 6.1 SMOTE OverSample:\n",
    "Para este caso se partirá realizando solamente un oversampling de la clase minoritaria, en específico, se buscará que dicha clase represente aproximadamente el 70% de los datos de la clase mayoritaria. Actualmente los datos de la clase **retraso** representan aproximadamente el 18% de la base de datos. Esto implica que realizaremos un aumento de 166% de los datos, esto con el fin de verificar si mediante el método SMOTE efectivamente generan mejoras considerables en los resultados encontrados en comparación al método basal.  "
   ]
  },
  {
   "cell_type": "code",
   "execution_count": 55,
   "metadata": {},
   "outputs": [],
   "source": [
    "smote_data_dict = SPLITTER.resample_split(X, Y, sampler='smote', percentage=[0.75])"
   ]
  },
  {
   "cell_type": "code",
   "execution_count": 56,
   "metadata": {},
   "outputs": [
    {
     "name": "stdout",
     "output_type": "stream",
     "text": [
      "Cantidad de vuelos 68206 Cantidad de atrasos 12614 Porcentaje de vuelos atrasados en dataset:0.18493974137172683\n",
      "Cantidad de vuelos train 62128 Cantidad de atrasos 26626 Porcentaje de vuelos atrasados en dataset:0.4285668297707958\n",
      "Cantidad de vuelos validación 10913 Cantidad de atrasos 2029 Porcentaje de vuelos atrasados en dataset:0.18592504352606984\n",
      "Cantidad de vuelos test 13642 Cantidad de atrasos 2436 Porcentaje de vuelos atrasados en dataset:0.17856619264037532\n"
     ]
    }
   ],
   "source": [
    "print(f\"Cantidad de vuelos {Y.count()}\",f\"Cantidad de atrasos {Y.sum()}\", f\"Porcentaje de vuelos atrasados en dataset:{Y.sum()/Y.count()}\")\n",
    "SPLITTER.show_split(smote_data_dict)"
   ]
  },
  {
   "cell_type": "code",
   "execution_count": 58,
   "metadata": {},
   "outputs": [
    {
     "name": "stdout",
     "output_type": "stream",
     "text": [
      "              precision    recall  f1-score   support\n",
      "\n",
      "       False       0.86      0.78      0.82     11206\n",
      "        True       0.29      0.43      0.35      2436\n",
      "\n",
      "    accuracy                           0.71     13642\n",
      "   macro avg       0.58      0.60      0.58     13642\n",
      "weighted avg       0.76      0.71      0.73     13642\n",
      "\n"
     ]
    }
   ],
   "source": [
    "modelxgb_smote = CLASSIFIER_FACTORY.build_model(\"xgboost\", objective= 'binary:logistic', learning_rate=0.1,n_estimators= 100, subsample= 0.5, eval_metric='aucpr')\n",
    "model_xgb_base.fit(smote_data_dict, encoding_dict)\n",
    "x_test, y_test = smote_data_dict[\"test\"]\n",
    "predicted_xgb = model_xgb_base.predict(x_test)\n",
    "print(classification_report(y_test, predicted_xgb))"
   ]
  },
  {
   "cell_type": "code",
   "execution_count": 59,
   "metadata": {},
   "outputs": [],
   "source": [
    "model_dictionary[\"xgb_smote\"]= average_precision_score(y_test, predicted_xgb)"
   ]
  },
  {
   "cell_type": "code",
   "execution_count": 60,
   "metadata": {},
   "outputs": [
    {
     "data": {
      "text/plain": [
       "{'modelxgb_base': 0.20108338471330045,\n",
       " 'xgb_smote': 0.22730657174614993,\n",
       " 'xgb_smote_under': 0.23129277554419883}"
      ]
     },
     "execution_count": 60,
     "metadata": {},
     "output_type": "execute_result"
    }
   ],
   "source": [
    "model_dictionary"
   ]
  },
  {
   "attachments": {},
   "cell_type": "markdown",
   "metadata": {},
   "source": [
    "### 6.2 SMOTE y Random UnderSampling:\n",
    "\n",
    "Otra manera de utilizar el método SMOTE es mediante el oversampling de la clase minoritaria para luego realizar un under sampling de la clase mayoritaria. Esto permite compensar un poco la pérdida de información por el under sampling mediante la generación de muestras sintéticas."
   ]
  },
  {
   "cell_type": "code",
   "execution_count": 61,
   "metadata": {},
   "outputs": [],
   "source": [
    "smote_under_data_dict = SPLITTER.resample_split(X, Y, sampler='smote-under', percentage=[0.8, 0.9])"
   ]
  },
  {
   "cell_type": "code",
   "execution_count": 62,
   "metadata": {},
   "outputs": [
    {
     "name": "stdout",
     "output_type": "stream",
     "text": [
      "Cantidad de vuelos 68206 Cantidad de atrasos 12614 Porcentaje de vuelos atrasados en dataset:0.18493974137172683\n",
      "Cantidad de vuelos train 59957 Cantidad de atrasos 28401 Porcentaje de vuelos atrasados en dataset:0.4736894774588455\n",
      "Cantidad de vuelos validación 10913 Cantidad de atrasos 2029 Porcentaje de vuelos atrasados en dataset:0.18592504352606984\n",
      "Cantidad de vuelos test 13642 Cantidad de atrasos 2436 Porcentaje de vuelos atrasados en dataset:0.17856619264037532\n"
     ]
    }
   ],
   "source": [
    "print(f\"Cantidad de vuelos {Y.count()}\",f\"Cantidad de atrasos {Y.sum()}\", f\"Porcentaje de vuelos atrasados en dataset:{Y.sum()/Y.count()}\")\n",
    "SPLITTER.show_split(smote_under_data_dict)"
   ]
  },
  {
   "cell_type": "code",
   "execution_count": 63,
   "metadata": {},
   "outputs": [
    {
     "name": "stdout",
     "output_type": "stream",
     "text": [
      "              precision    recall  f1-score   support\n",
      "\n",
      "       False       0.88      0.65      0.75     11206\n",
      "        True       0.27      0.59      0.37      2436\n",
      "\n",
      "    accuracy                           0.64     13642\n",
      "   macro avg       0.57      0.62      0.56     13642\n",
      "weighted avg       0.77      0.64      0.68     13642\n",
      "\n"
     ]
    }
   ],
   "source": [
    "model_xgb_smote_under = CLASSIFIER_FACTORY.build_model(\"xgboost\", objective= 'binary:logistic', learning_rate=0.1,n_estimators= 100, subsample= 0.5, eval_metric='aucpr')\n",
    "model_xgb_smote_under.fit(smote_under_data_dict, encoding_dict)\n",
    "x_test, y_test = smote_data_dict[\"test\"]\n",
    "predicted_xgb = model_xgb_smote_under.predict(x_test)\n",
    "print(classification_report(y_test, predicted_xgb))"
   ]
  },
  {
   "cell_type": "code",
   "execution_count": 64,
   "metadata": {},
   "outputs": [],
   "source": [
    "model_dictionary[\"xgb_smote_under\"]= average_precision_score(y_test, predicted_xgb)"
   ]
  },
  {
   "cell_type": "code",
   "execution_count": 65,
   "metadata": {},
   "outputs": [
    {
     "data": {
      "text/plain": [
       "{'modelxgb_base': 0.20108338471330045,\n",
       " 'xgb_smote': 0.22730657174614993,\n",
       " 'xgb_smote_under': 0.23129277554419883}"
      ]
     },
     "execution_count": 65,
     "metadata": {},
     "output_type": "execute_result"
    }
   ],
   "source": [
    "model_dictionary"
   ]
  },
  {
   "attachments": {},
   "cell_type": "markdown",
   "metadata": {},
   "source": [
    "## 7. Selección Mejor par Modelo-Método de Over-Under Sampling:"
   ]
  },
  {
   "attachments": {},
   "cell_type": "markdown",
   "metadata": {},
   "source": [
    "Como se indicó anteriormente, la manera en que se definirá el mejor modelo para el set de datos generado es mediante la métrica de AUCPR, dicha métrica nos permite encontrar el mejor modelo que considere tanto el recall como la precisión. De esta manera, el modelo elegido es el uso de SMOTE con under sampling. ya que considera una mejora de 15% con respecto al modelo basal utilizando las mismas features y mismos parámetros!"
   ]
  },
  {
   "attachments": {},
   "cell_type": "markdown",
   "metadata": {},
   "source": [
    "### 7.1 Grid Search Mejor Modelo:"
   ]
  },
  {
   "cell_type": "code",
   "execution_count": 136,
   "metadata": {},
   "outputs": [],
   "source": [
    "x_train, x_val, y_train, y_val = train_test_split(Xo, Yo, test_size = 0.33, random_state = 42)\n",
    "x_train, x_val = column_trans.transform(x_train), column_trans.transform(x_val)\n",
    "oversample = SMOTE(sampling_strategy=0.7, random_state=42, k_neighbors=10)\n",
    "x_train, y_train = oversample.fit_resample(x_train, y_train)"
   ]
  },
  {
   "cell_type": "code",
   "execution_count": 137,
   "metadata": {},
   "outputs": [],
   "source": [
    "from sklearn.model_selection import GridSearchCV\n",
    "modelxgb_smote_grid = xgb.XGBClassifier(random_state=1,  objective= 'binary:logistic',  eval_metric='aucpr', **previous_best)\n",
    "parameters = { \"reg_lambda\": [0, 0.1, 1],\n",
    "                \"scale_pos_weight\": [1, 20, 30,  1000],\n",
    "                \"subsample\": [0.5, 1],\n",
    "                \"eta\": [0.01, 0.1, 1],\n",
    "                \"gamma\": [0, 0.25, 1]}\n",
    "xgb_smote_grid = GridSearchCV(modelxgb_grid, param_grid=parameters,\n",
    "    cv =2, n_jobs=-1, verbose=1)"
   ]
  },
  {
   "cell_type": "code",
   "execution_count": 138,
   "metadata": {},
   "outputs": [
    {
     "name": "stdout",
     "output_type": "stream",
     "text": [
      "Fitting 2 folds for each of 216 candidates, totalling 432 fits\n"
     ]
    },
    {
     "data": {
      "text/html": [
       "<style>#sk-container-id-4 {color: black;background-color: white;}#sk-container-id-4 pre{padding: 0;}#sk-container-id-4 div.sk-toggleable {background-color: white;}#sk-container-id-4 label.sk-toggleable__label {cursor: pointer;display: block;width: 100%;margin-bottom: 0;padding: 0.3em;box-sizing: border-box;text-align: center;}#sk-container-id-4 label.sk-toggleable__label-arrow:before {content: \"▸\";float: left;margin-right: 0.25em;color: #696969;}#sk-container-id-4 label.sk-toggleable__label-arrow:hover:before {color: black;}#sk-container-id-4 div.sk-estimator:hover label.sk-toggleable__label-arrow:before {color: black;}#sk-container-id-4 div.sk-toggleable__content {max-height: 0;max-width: 0;overflow: hidden;text-align: left;background-color: #f0f8ff;}#sk-container-id-4 div.sk-toggleable__content pre {margin: 0.2em;color: black;border-radius: 0.25em;background-color: #f0f8ff;}#sk-container-id-4 input.sk-toggleable__control:checked~div.sk-toggleable__content {max-height: 200px;max-width: 100%;overflow: auto;}#sk-container-id-4 input.sk-toggleable__control:checked~label.sk-toggleable__label-arrow:before {content: \"▾\";}#sk-container-id-4 div.sk-estimator input.sk-toggleable__control:checked~label.sk-toggleable__label {background-color: #d4ebff;}#sk-container-id-4 div.sk-label input.sk-toggleable__control:checked~label.sk-toggleable__label {background-color: #d4ebff;}#sk-container-id-4 input.sk-hidden--visually {border: 0;clip: rect(1px 1px 1px 1px);clip: rect(1px, 1px, 1px, 1px);height: 1px;margin: -1px;overflow: hidden;padding: 0;position: absolute;width: 1px;}#sk-container-id-4 div.sk-estimator {font-family: monospace;background-color: #f0f8ff;border: 1px dotted black;border-radius: 0.25em;box-sizing: border-box;margin-bottom: 0.5em;}#sk-container-id-4 div.sk-estimator:hover {background-color: #d4ebff;}#sk-container-id-4 div.sk-parallel-item::after {content: \"\";width: 100%;border-bottom: 1px solid gray;flex-grow: 1;}#sk-container-id-4 div.sk-label:hover label.sk-toggleable__label {background-color: #d4ebff;}#sk-container-id-4 div.sk-serial::before {content: \"\";position: absolute;border-left: 1px solid gray;box-sizing: border-box;top: 0;bottom: 0;left: 50%;z-index: 0;}#sk-container-id-4 div.sk-serial {display: flex;flex-direction: column;align-items: center;background-color: white;padding-right: 0.2em;padding-left: 0.2em;position: relative;}#sk-container-id-4 div.sk-item {position: relative;z-index: 1;}#sk-container-id-4 div.sk-parallel {display: flex;align-items: stretch;justify-content: center;background-color: white;position: relative;}#sk-container-id-4 div.sk-item::before, #sk-container-id-4 div.sk-parallel-item::before {content: \"\";position: absolute;border-left: 1px solid gray;box-sizing: border-box;top: 0;bottom: 0;left: 50%;z-index: -1;}#sk-container-id-4 div.sk-parallel-item {display: flex;flex-direction: column;z-index: 1;position: relative;background-color: white;}#sk-container-id-4 div.sk-parallel-item:first-child::after {align-self: flex-end;width: 50%;}#sk-container-id-4 div.sk-parallel-item:last-child::after {align-self: flex-start;width: 50%;}#sk-container-id-4 div.sk-parallel-item:only-child::after {width: 0;}#sk-container-id-4 div.sk-dashed-wrapped {border: 1px dashed gray;margin: 0 0.4em 0.5em 0.4em;box-sizing: border-box;padding-bottom: 0.4em;background-color: white;}#sk-container-id-4 div.sk-label label {font-family: monospace;font-weight: bold;display: inline-block;line-height: 1.2em;}#sk-container-id-4 div.sk-label-container {text-align: center;}#sk-container-id-4 div.sk-container {/* jupyter's `normalize.less` sets `[hidden] { display: none; }` but bootstrap.min.css set `[hidden] { display: none !important; }` so we also need the `!important` here to be able to override the default hidden behavior on the sphinx rendered scikit-learn.org. See: https://github.com/scikit-learn/scikit-learn/issues/21755 */display: inline-block !important;position: relative;}#sk-container-id-4 div.sk-text-repr-fallback {display: none;}</style><div id=\"sk-container-id-4\" class=\"sk-top-container\"><div class=\"sk-text-repr-fallback\"><pre>GridSearchCV(cv=2,\n",
       "             estimator=XGBClassifier(base_score=None, booster=None,\n",
       "                                     callbacks=None, colsample_bylevel=None,\n",
       "                                     colsample_bynode=None,\n",
       "                                     colsample_bytree=None,\n",
       "                                     early_stopping_rounds=None,\n",
       "                                     enable_categorical=False, eval_metric=None,\n",
       "                                     feature_types=None, gamma=None,\n",
       "                                     gpu_id=None, grow_policy=None,\n",
       "                                     importance_type=None,\n",
       "                                     interaction_constraints=None,\n",
       "                                     learning_rate=None,...\n",
       "                                     max_cat_to_onehot=None,\n",
       "                                     max_delta_step=None, max_depth=None,\n",
       "                                     max_leaves=None, min_child_weight=None,\n",
       "                                     missing=nan, monotone_constraints=None,\n",
       "                                     n_estimators=100, n_jobs=None,\n",
       "                                     num_parallel_tree=None, predictor=None,\n",
       "                                     random_state=None, ...),\n",
       "             n_jobs=-1,\n",
       "             param_grid={&#x27;eta&#x27;: [0.01, 0.1, 1], &#x27;gamma&#x27;: [0, 0.25, 1],\n",
       "                         &#x27;reg_lambda&#x27;: [0, 0.1, 1],\n",
       "                         &#x27;scale_pos_weight&#x27;: [1, 20, 30, 1000],\n",
       "                         &#x27;subsample&#x27;: [0.5, 1]},\n",
       "             verbose=1)</pre><b>In a Jupyter environment, please rerun this cell to show the HTML representation or trust the notebook. <br />On GitHub, the HTML representation is unable to render, please try loading this page with nbviewer.org.</b></div><div class=\"sk-container\" hidden><div class=\"sk-item sk-dashed-wrapped\"><div class=\"sk-label-container\"><div class=\"sk-label sk-toggleable\"><input class=\"sk-toggleable__control sk-hidden--visually\" id=\"sk-estimator-id-10\" type=\"checkbox\" ><label for=\"sk-estimator-id-10\" class=\"sk-toggleable__label sk-toggleable__label-arrow\">GridSearchCV</label><div class=\"sk-toggleable__content\"><pre>GridSearchCV(cv=2,\n",
       "             estimator=XGBClassifier(base_score=None, booster=None,\n",
       "                                     callbacks=None, colsample_bylevel=None,\n",
       "                                     colsample_bynode=None,\n",
       "                                     colsample_bytree=None,\n",
       "                                     early_stopping_rounds=None,\n",
       "                                     enable_categorical=False, eval_metric=None,\n",
       "                                     feature_types=None, gamma=None,\n",
       "                                     gpu_id=None, grow_policy=None,\n",
       "                                     importance_type=None,\n",
       "                                     interaction_constraints=None,\n",
       "                                     learning_rate=None,...\n",
       "                                     max_cat_to_onehot=None,\n",
       "                                     max_delta_step=None, max_depth=None,\n",
       "                                     max_leaves=None, min_child_weight=None,\n",
       "                                     missing=nan, monotone_constraints=None,\n",
       "                                     n_estimators=100, n_jobs=None,\n",
       "                                     num_parallel_tree=None, predictor=None,\n",
       "                                     random_state=None, ...),\n",
       "             n_jobs=-1,\n",
       "             param_grid={&#x27;eta&#x27;: [0.01, 0.1, 1], &#x27;gamma&#x27;: [0, 0.25, 1],\n",
       "                         &#x27;reg_lambda&#x27;: [0, 0.1, 1],\n",
       "                         &#x27;scale_pos_weight&#x27;: [1, 20, 30, 1000],\n",
       "                         &#x27;subsample&#x27;: [0.5, 1]},\n",
       "             verbose=1)</pre></div></div></div><div class=\"sk-parallel\"><div class=\"sk-parallel-item\"><div class=\"sk-item\"><div class=\"sk-label-container\"><div class=\"sk-label sk-toggleable\"><input class=\"sk-toggleable__control sk-hidden--visually\" id=\"sk-estimator-id-11\" type=\"checkbox\" ><label for=\"sk-estimator-id-11\" class=\"sk-toggleable__label sk-toggleable__label-arrow\">estimator: XGBClassifier</label><div class=\"sk-toggleable__content\"><pre>XGBClassifier(base_score=None, booster=None, callbacks=None,\n",
       "              colsample_bylevel=None, colsample_bynode=None,\n",
       "              colsample_bytree=None, early_stopping_rounds=None,\n",
       "              enable_categorical=False, eval_metric=None, feature_types=None,\n",
       "              gamma=None, gpu_id=None, grow_policy=None, importance_type=None,\n",
       "              interaction_constraints=None, learning_rate=None, max_bin=None,\n",
       "              max_cat_threshold=None, max_cat_to_onehot=None,\n",
       "              max_delta_step=None, max_depth=None, max_leaves=None,\n",
       "              min_child_weight=None, missing=nan, monotone_constraints=None,\n",
       "              n_estimators=100, n_jobs=None, num_parallel_tree=None,\n",
       "              predictor=None, random_state=None, ...)</pre></div></div></div><div class=\"sk-serial\"><div class=\"sk-item\"><div class=\"sk-estimator sk-toggleable\"><input class=\"sk-toggleable__control sk-hidden--visually\" id=\"sk-estimator-id-12\" type=\"checkbox\" ><label for=\"sk-estimator-id-12\" class=\"sk-toggleable__label sk-toggleable__label-arrow\">XGBClassifier</label><div class=\"sk-toggleable__content\"><pre>XGBClassifier(base_score=None, booster=None, callbacks=None,\n",
       "              colsample_bylevel=None, colsample_bynode=None,\n",
       "              colsample_bytree=None, early_stopping_rounds=None,\n",
       "              enable_categorical=False, eval_metric=None, feature_types=None,\n",
       "              gamma=None, gpu_id=None, grow_policy=None, importance_type=None,\n",
       "              interaction_constraints=None, learning_rate=None, max_bin=None,\n",
       "              max_cat_threshold=None, max_cat_to_onehot=None,\n",
       "              max_delta_step=None, max_depth=None, max_leaves=None,\n",
       "              min_child_weight=None, missing=nan, monotone_constraints=None,\n",
       "              n_estimators=100, n_jobs=None, num_parallel_tree=None,\n",
       "              predictor=None, random_state=None, ...)</pre></div></div></div></div></div></div></div></div></div></div>"
      ],
      "text/plain": [
       "GridSearchCV(cv=2,\n",
       "             estimator=XGBClassifier(base_score=None, booster=None,\n",
       "                                     callbacks=None, colsample_bylevel=None,\n",
       "                                     colsample_bynode=None,\n",
       "                                     colsample_bytree=None,\n",
       "                                     early_stopping_rounds=None,\n",
       "                                     enable_categorical=False, eval_metric=None,\n",
       "                                     feature_types=None, gamma=None,\n",
       "                                     gpu_id=None, grow_policy=None,\n",
       "                                     importance_type=None,\n",
       "                                     interaction_constraints=None,\n",
       "                                     learning_rate=None,...\n",
       "                                     max_cat_to_onehot=None,\n",
       "                                     max_delta_step=None, max_depth=None,\n",
       "                                     max_leaves=None, min_child_weight=None,\n",
       "                                     missing=nan, monotone_constraints=None,\n",
       "                                     n_estimators=100, n_jobs=None,\n",
       "                                     num_parallel_tree=None, predictor=None,\n",
       "                                     random_state=None, ...),\n",
       "             n_jobs=-1,\n",
       "             param_grid={'eta': [0.01, 0.1, 1], 'gamma': [0, 0.25, 1],\n",
       "                         'reg_lambda': [0, 0.1, 1],\n",
       "                         'scale_pos_weight': [1, 20, 30, 1000],\n",
       "                         'subsample': [0.5, 1]},\n",
       "             verbose=1)"
      ]
     },
     "execution_count": 138,
     "metadata": {},
     "output_type": "execute_result"
    }
   ],
   "source": [
    "xgb_smote_grid.fit(x_train, y_train, eval_set=[(x_val, y_val)], verbose=False)"
   ]
  },
  {
   "cell_type": "code",
   "execution_count": 139,
   "metadata": {},
   "outputs": [
    {
     "name": "stdout",
     "output_type": "stream",
     "text": [
      "              precision    recall  f1-score   support\n",
      "\n",
      "           0       0.86      0.81      0.83     18403\n",
      "           1       0.31      0.39      0.35      4105\n",
      "\n",
      "    accuracy                           0.73     22508\n",
      "   macro avg       0.59      0.60      0.59     22508\n",
      "weighted avg       0.76      0.73      0.74     22508\n",
      "\n"
     ]
    }
   ],
   "source": [
    "predicted_xgb = xgb_smote_grid.predict(x_val)\n",
    "print(classification_report(y_val, predicted_xgb))"
   ]
  },
  {
   "cell_type": "code",
   "execution_count": 140,
   "metadata": {},
   "outputs": [
    {
     "name": "stdout",
     "output_type": "stream",
     "text": [
      "              precision    recall  f1-score   support\n",
      "\n",
      "           0       0.86      0.81      0.83     18345\n",
      "           1       0.33      0.40      0.36      4163\n",
      "\n",
      "    accuracy                           0.74     22508\n",
      "   macro avg       0.59      0.61      0.60     22508\n",
      "weighted avg       0.76      0.74      0.75     22508\n",
      "\n"
     ]
    }
   ],
   "source": [
    "predicted_xgb = xgb_smote_grid.predict(xo_test)\n",
    "print(classification_report(yo_test, predicted_xgb))"
   ]
  },
  {
   "cell_type": "code",
   "execution_count": 141,
   "metadata": {},
   "outputs": [
    {
     "data": {
      "text/plain": [
       "{'eta': 1, 'gamma': 0, 'reg_lambda': 0, 'scale_pos_weight': 1, 'subsample': 1}"
      ]
     },
     "execution_count": 141,
     "metadata": {},
     "output_type": "execute_result"
    }
   ],
   "source": [
    "xgb_smote_grid.best_params_"
   ]
  },
  {
   "cell_type": "code",
   "execution_count": 142,
   "metadata": {},
   "outputs": [],
   "source": [
    "model_dictionary[\"xgb_grid_smote\"]= average_precision_score(yo_test, predicted_xgb)"
   ]
  },
  {
   "cell_type": "code",
   "execution_count": 143,
   "metadata": {},
   "outputs": [
    {
     "data": {
      "text/plain": [
       "{'modelxgb_base': 0.20839491452833558,\n",
       " 'xgb_grid_base': 0.21728632479901608,\n",
       " 'xgb_grid_base_round2': 0.2185626724133346,\n",
       " 'xgb_smote': 0.24054706513149243,\n",
       " 'xgb_smote_under': 0.2284234527919285,\n",
       " 'xgb_grid_smote': 0.2415843165271429}"
      ]
     },
     "execution_count": 143,
     "metadata": {},
     "output_type": "execute_result"
    }
   ],
   "source": [
    "model_dictionary"
   ]
  },
  {
   "cell_type": "code",
   "execution_count": null,
   "metadata": {},
   "outputs": [],
   "source": [
    "previous_best = xgb_smote_grid.best_params_"
   ]
  },
  {
   "attachments": {},
   "cell_type": "markdown",
   "metadata": {},
   "source": [
    "De este modo, viendo el diccionario de valores, se puede ver que el mejor valor obtenido es el con xgb_grid_smote"
   ]
  },
  {
   "attachments": {},
   "cell_type": "markdown",
   "metadata": {},
   "source": [
    "## 8. Entrenando modelo agregando features:"
   ]
  },
  {
   "cell_type": "code",
   "execution_count": 155,
   "metadata": {},
   "outputs": [],
   "source": [
    "COLUMNAS_MAS_FEATURES = ['OPERA', 'MES', 'TIPOVUELO', 'SIGLADES', \"SIGLAORI\",'DIANOM']\n",
    "data_to_pipe = data[COLUMNAS_MAS_FEATURES]\n",
    "Xo, Yo = data_to_pipe, data[\"atraso_15\"]\n",
    "_, xo_test, _, yo_test = train_test_split(Xo, Yo, test_size = 0.33, random_state = 42, stratify=Yo)\n",
    "# generamos una codificaciones ordinaria para los datos: \n",
    "column_trans = make_column_transformer((OrdinalEncoder(), COLUMNAS_MAS_FEATURES))\n",
    "# ajustamos la codificacion\n",
    "column_trans.fit(data_to_pipe)\n",
    "xo_test = column_trans.transform(xo_test)\n",
    "\n",
    "# generamos una funcion que genere pipelines: \n",
    "Makepipe = lambda the_model: make_pipeline(column_trans, the_model)"
   ]
  },
  {
   "cell_type": "code",
   "execution_count": 156,
   "metadata": {},
   "outputs": [],
   "source": [
    "x_train, x_val, y_train, y_val = train_test_split(Xo, Yo, test_size = 0.33, random_state = 42)\n",
    "x_train, x_val = column_trans.transform(x_train), column_trans.transform(x_val)\n",
    "oversample = SMOTE(sampling_strategy=0.7, random_state=42, k_neighbors=10)\n",
    "x_train, y_train = oversample.fit_resample(x_train, y_train)"
   ]
  },
  {
   "cell_type": "code",
   "execution_count": 157,
   "metadata": {},
   "outputs": [
    {
     "name": "stdout",
     "output_type": "stream",
     "text": [
      "              precision    recall  f1-score   support\n",
      "\n",
      "           0       0.84      0.94      0.88     18403\n",
      "           1       0.40      0.18      0.25      4105\n",
      "\n",
      "    accuracy                           0.80     22508\n",
      "   macro avg       0.62      0.56      0.57     22508\n",
      "weighted avg       0.76      0.80      0.77     22508\n",
      "\n"
     ]
    }
   ],
   "source": [
    "modelxgb = xgb.XGBClassifier(random_state=1, objective= 'binary:logistic',  eval_metric='aucpr', **previous_best)\n",
    "modelxgb = modelxgb.fit(x_train, y_train, eval_set=[(x_val, y_val)], verbose=False)\n",
    "predicted_xgb = modelxgb.predict(x_val)\n",
    "print(classification_report(y_val, predicted_xgb))"
   ]
  },
  {
   "cell_type": "code",
   "execution_count": 158,
   "metadata": {},
   "outputs": [
    {
     "name": "stdout",
     "output_type": "stream",
     "text": [
      "              precision    recall  f1-score   support\n",
      "\n",
      "           0       0.84      0.94      0.89     18345\n",
      "           1       0.44      0.21      0.28      4163\n",
      "\n",
      "    accuracy                           0.80     22508\n",
      "   macro avg       0.64      0.57      0.58     22508\n",
      "weighted avg       0.77      0.80      0.77     22508\n",
      "\n"
     ]
    }
   ],
   "source": [
    "predicted_xgb = modelxgb.predict(xo_test)\n",
    "print(classification_report(yo_test, predicted_xgb))"
   ]
  },
  {
   "cell_type": "code",
   "execution_count": 160,
   "metadata": {},
   "outputs": [],
   "source": [
    "model_dictionary[\"more_features\"] = average_precision_score(yo_test, predicted_xgb)"
   ]
  },
  {
   "cell_type": "code",
   "execution_count": 164,
   "metadata": {},
   "outputs": [
    {
     "data": {
      "text/plain": [
       "{'modelxgb_base': 0.20839491452833558,\n",
       " 'xgb_grid_base': 0.21728632479901608,\n",
       " 'xgb_grid_base_round2': 0.2185626724133346,\n",
       " 'xgb_smote': 0.24054706513149243,\n",
       " 'xgb_smote_under': 0.2284234527919285,\n",
       " 'xgb_grid_smote': 0.2415843165271429,\n",
       " 'more_features': 0.2376063877394071}"
      ]
     },
     "execution_count": 164,
     "metadata": {},
     "output_type": "execute_result"
    }
   ],
   "source": [
    "model_dictionary"
   ]
  },
  {
   "attachments": {},
   "cell_type": "markdown",
   "metadata": {},
   "source": [
    "## 9. Entrenando modelo solo con features importantes:"
   ]
  },
  {
   "cell_type": "code",
   "execution_count": 170,
   "metadata": {},
   "outputs": [],
   "source": [
    "feature_important = xgb_smote_grid.best_estimator_.get_booster().get_score(importance_type='weight')\n",
    "keys = list(feature_important.keys())\n",
    "values = list(feature_important.values())\n",
    "\n",
    "important_features = pd.DataFrame(data=values, index=keys, columns=[\"score\"]).sort_values(by = \"score\", ascending=False)"
   ]
  },
  {
   "cell_type": "code",
   "execution_count": 178,
   "metadata": {},
   "outputs": [],
   "source": [
    "X = Xo.iloc[:, [0, 2]]"
   ]
  },
  {
   "cell_type": "code",
   "execution_count": 184,
   "metadata": {},
   "outputs": [
    {
     "data": {
      "text/html": [
       "<div>\n",
       "<style scoped>\n",
       "    .dataframe tbody tr th:only-of-type {\n",
       "        vertical-align: middle;\n",
       "    }\n",
       "\n",
       "    .dataframe tbody tr th {\n",
       "        vertical-align: top;\n",
       "    }\n",
       "\n",
       "    .dataframe thead th {\n",
       "        text-align: right;\n",
       "    }\n",
       "</style>\n",
       "<table border=\"1\" class=\"dataframe\">\n",
       "  <thead>\n",
       "    <tr style=\"text-align: right;\">\n",
       "      <th></th>\n",
       "      <th>score</th>\n",
       "    </tr>\n",
       "  </thead>\n",
       "  <tbody>\n",
       "    <tr>\n",
       "      <th>f2</th>\n",
       "      <td>1707.0</td>\n",
       "    </tr>\n",
       "    <tr>\n",
       "      <th>f0</th>\n",
       "      <td>1399.0</td>\n",
       "    </tr>\n",
       "    <tr>\n",
       "      <th>f1</th>\n",
       "      <td>117.0</td>\n",
       "    </tr>\n",
       "  </tbody>\n",
       "</table>\n",
       "</div>"
      ],
      "text/plain": [
       "     score\n",
       "f2  1707.0\n",
       "f0  1399.0\n",
       "f1   117.0"
      ]
     },
     "execution_count": 184,
     "metadata": {},
     "output_type": "execute_result"
    }
   ],
   "source": [
    "important_features.head()"
   ]
  },
  {
   "cell_type": "code",
   "execution_count": 181,
   "metadata": {},
   "outputs": [],
   "source": [
    "# obtenemos los datos del dataframe:\n",
    "data_to_pipe = data[[\"OPERA\", \"MES\"]]\n",
    "\n",
    "# volvemos a generar los datos originales con la nueva codificacion:\n",
    "Xo, Yo = data_to_pipe, data[\"atraso_15\"]\n",
    "_, xo_test, _, yo_test = train_test_split(Xo, Yo, test_size = 0.33, random_state = 42, stratify=Yo)"
   ]
  },
  {
   "cell_type": "code",
   "execution_count": 182,
   "metadata": {},
   "outputs": [],
   "source": [
    "# generamos una codificaciones ordinaria para los datos: \n",
    "column_trans = make_column_transformer((OrdinalEncoder(), [\"OPERA\", \"MES\"]))\n",
    "# ajustamos la codificacion\n",
    "column_trans.fit(data_to_pipe)\n",
    "xo_test = column_trans.transform(xo_test)"
   ]
  },
  {
   "cell_type": "code",
   "execution_count": 187,
   "metadata": {},
   "outputs": [],
   "source": [
    "x_train, x_val, y_train, y_val = train_test_split(Xo, Yo, test_size = 0.33, random_state = 42)\n",
    "x_train, x_val = column_trans.transform(x_train), column_trans.transform(x_val)\n",
    "oversample = SMOTE(sampling_strategy=0.7, random_state=1)\n",
    "x_train, y_train = oversample.fit_resample(x_train, y_train)"
   ]
  },
  {
   "cell_type": "code",
   "execution_count": 188,
   "metadata": {},
   "outputs": [
    {
     "name": "stdout",
     "output_type": "stream",
     "text": [
      "              precision    recall  f1-score   support\n",
      "\n",
      "           0       0.87      0.85      0.86     19016\n",
      "           1       0.29      0.34      0.31      3492\n",
      "\n",
      "    accuracy                           0.77     22508\n",
      "   macro avg       0.58      0.59      0.58     22508\n",
      "weighted avg       0.78      0.77      0.77     22508\n",
      "\n"
     ]
    }
   ],
   "source": [
    "modelxgb = xgb.XGBClassifier(random_state=1, objective= 'binary:logistic',   eval_metric='aucpr', **previous_best)\n",
    "modelxgb = modelxgb.fit(x_train, y_train, eval_set=[(x_val, y_val)], verbose=False)\n",
    "predicted_xgb = modelxgb.predict(x_val)\n",
    "print(classification_report(predicted_xgb, y_val))"
   ]
  },
  {
   "cell_type": "code",
   "execution_count": 189,
   "metadata": {},
   "outputs": [],
   "source": [
    "predicted_xgb = modelxgb.predict(xo_test)"
   ]
  },
  {
   "cell_type": "code",
   "execution_count": 191,
   "metadata": {},
   "outputs": [],
   "source": [
    "model_dictionary[\"xgb_important_features\"] = average_precision_score(yo_test, predicted_xgb)"
   ]
  },
  {
   "attachments": {},
   "cell_type": "markdown",
   "metadata": {},
   "source": [
    "## 10. Selección Mejor Modelo"
   ]
  },
  {
   "attachments": {},
   "cell_type": "markdown",
   "metadata": {},
   "source": [
    "###  Grid Search con parámetros de regularización:\n",
    "A modo de conjetura, se cree que el modelo al tener una  profundidad máxima de 10 puede estar sufriendo de sobre ajuste. Además, el modelo de XGBoost utiliza una regularización $\\alpha$ para regularizar mediante la norma $L_{2}$, dicho modelo también tiene otras formas de evitar el sobre ajuste y una posible mejora para el modelo puede ser ajustar dicho parámetro, ya que permite que el árbol sufra en menor medida de sobre ajuste debido a la penalización.   \n",
    "\n",
    "Además, para encontrar el mejor modelo posible lo que haremos será agregar un conjunto de validación el cual se utilizará para hacer la selección del modelo. Como se dijo anteriormente el resultado sobre los datos originales sin cambios en sus procentajes definirá cuál será el modelo que utilizaremos. \n",
    "\n",
    "De este modo, lo que se propone es variar los hiperparámetros que generen mejoras en el sobre ajuste del modelo. En específico, estos parámetros son:\n",
    "  - $\\alpha$\n",
    "  - $\\lambda$\n",
    "  - Profundidad máxima\n",
    "  - scale_pos_weight\n",
    "  - subsample\n",
    "\n"
   ]
  },
  {
   "attachments": {},
   "cell_type": "markdown",
   "metadata": {},
   "source": [
    "Observando los resultados encontrados bajo todas las pruebas previamente hechas, se puede notar que el mejor modelo encontrado fue el que utiliza SMOTE como método de oversampling y luego fue optimizado por grid search. A continuación mostramos los resultados y el valor de cross_validation que presenta:"
   ]
  },
  {
   "cell_type": "code",
   "execution_count": 193,
   "metadata": {},
   "outputs": [],
   "source": [
    "# obtenemos los datos del dataframe:\n",
    "data_to_pipe = data[COLUMNAS_BASALES]\n",
    "\n",
    "# volvemos a generar los datos originales con la nueva codificacion:\n",
    "Xo, Yo = data_to_pipe, data[\"atraso_15\"]\n",
    "_, xo_test, _, yo_test = train_test_split(Xo, Yo, test_size = 0.33, random_state = 42, stratify=Yo)"
   ]
  },
  {
   "cell_type": "code",
   "execution_count": 194,
   "metadata": {},
   "outputs": [],
   "source": [
    "# generamos una codificaciones ordinaria para los datos: \n",
    "column_trans = make_column_transformer((OrdinalEncoder(), COLUMNAS_BASALES))\n",
    "# ajustamos la codificacion\n",
    "column_trans.fit(data_to_pipe)\n",
    "xo_test = column_trans.transform(xo_test)"
   ]
  },
  {
   "cell_type": "code",
   "execution_count": 195,
   "metadata": {},
   "outputs": [],
   "source": [
    "x_train, x_val, y_train, y_val = train_test_split(Xo, Yo, test_size = 0.33, random_state = 42)\n",
    "x_train, x_val = column_trans.transform(x_train), column_trans.transform(x_val)\n",
    "oversample = SMOTE(sampling_strategy=0.7, random_state=42, k_neighbors=10)\n",
    "x_train, y_train = oversample.fit_resample(x_train, y_train)"
   ]
  },
  {
   "cell_type": "code",
   "execution_count": 192,
   "metadata": {},
   "outputs": [
    {
     "data": {
      "text/plain": [
       "{'modelxgb_base': 0.20839491452833558,\n",
       " 'xgb_grid_base': 0.21728632479901608,\n",
       " 'xgb_grid_base_round2': 0.2185626724133346,\n",
       " 'xgb_smote': 0.24054706513149243,\n",
       " 'xgb_smote_under': 0.2284234527919285,\n",
       " 'xgb_grid_smote': 0.2415843165271429,\n",
       " 'more_features': 0.2376063877394071,\n",
       " 'xgb_important_features': 0.23492118067480844}"
      ]
     },
     "execution_count": 192,
     "metadata": {},
     "output_type": "execute_result"
    }
   ],
   "source": [
    "model_dictionary"
   ]
  },
  {
   "cell_type": "code",
   "execution_count": 196,
   "metadata": {},
   "outputs": [
    {
     "name": "stdout",
     "output_type": "stream",
     "text": [
      "AUCPR result: 0.3116357724170816 +- 0.010272190469080204\n"
     ]
    }
   ],
   "source": [
    "from sklearn.model_selection import RepeatedStratifiedKFold\n",
    "kfolds = RepeatedStratifiedKFold(n_splits=5, random_state=32)\n",
    "kfolds.get_n_splits(Xo, Yo)\n",
    "X, Y = column_trans.transform(Xo), Yo\n",
    "result = cross_val_score(modelxgb, xo_test, yo_test, cv=kfolds, n_jobs=-1, scoring='average_precision')\n",
    "print(f\"AUCPR result: {result.mean()} +- {result.std()}\" )"
   ]
  },
  {
   "cell_type": "code",
   "execution_count": 198,
   "metadata": {},
   "outputs": [],
   "source": [
    "from sklearn.compose import make_column_transformer\n",
    "from sklearn.pipeline import make_pipeline\n",
    "from sklearn.preprocessing import OrdinalEncoder\n",
    "column_trans = make_column_transformer((OrdinalEncoder(), COLUMNAS_BASALES))\n",
    "column_trans.fit(data_to_pipe)\n",
    "pipe = make_pipeline(column_trans, xgb_smote_grid.best_estimator_)"
   ]
  },
  {
   "cell_type": "code",
   "execution_count": 201,
   "metadata": {},
   "outputs": [
    {
     "data": {
      "text/plain": [
       "['backend/production_model.sav']"
      ]
     },
     "execution_count": 201,
     "metadata": {},
     "output_type": "execute_result"
    }
   ],
   "source": [
    "import joblib\n",
    "model_name = \"backend/production_model.sav\"\n",
    "joblib.dump(pipe, model_name)"
   ]
  },
  {
   "attachments": {},
   "cell_type": "markdown",
   "metadata": {},
   "source": [
    "A través de esta pregunta se pudo mostrar que fue posible mejorar el modelo generado más del 20%, dentro de las posibles mejoras que aún podrían hacerse se encuentra la posibilidad de agregar las distancias entre ciudad de origen y ciudad de destino, para que así el modelo tenga una referencia de que tan lejos quedan las ciudades y por ende pueda considerar esto en su predicción."
   ]
  },
  {
   "attachments": {},
   "cell_type": "markdown",
   "metadata": {},
   "source": [
    "## 11. API:\n",
    "# Pregunta 3: \n",
    "Habilita el modelo seleccionado como API REST para ser expuesto\n",
    "\n",
    "Para resolver este problema lo que se hizo en primera instancia fue generar un proyecto de Django. En dicho proyecto se generaró una api que contiene los métodos post y get, en específico el método post es el que se encarga de generar las predicciones para el equipo y es el que se encuentra a disposición para realizar las consultas. El método post debe realizarse con la siguiente url http://localhost:8000/api/estaAtrasado \n",
    "\n",
    "Dicha uri debe ser utilizada con un body que debe contener los siguiente: \n",
    "- OPERA\n",
    "- TIPOVUELO\n",
    "- MES\n",
    "- VLO_I\n",
    "\n",
    "los primeros tres elementos de la lista corresponden a los features utilizados por el modelo, mientras que VLO_I se utiliza como indicador del vuelo que se está buscando predecir si llegará con retraso. De esta manera, el equipo debe mandar el post request con los valores que corresponden a la base de datos, ya que el modelo de pipeline realizado es el que posteriormente se encarga de transformar los valores. Otro punto importante se encuentra en que la api generada puede trabajar con múltiples vuelos al mismo tiempo, esto se debe a que el api está hecha para poder mandar un arreglo de json (donde cada uno de ellos representa un vuelo), por lo que el payload final del método rest es el siguiente: \n",
    "\n",
    "{\"vuelos\": [{\"MES\": 3,\"TIPOVUELO\": \"N\", \"OPERA\": \"K.L.M.\", \"VLO_I\": 226}, {\"MES\": 12,\"TIPOVUELO\": \"I\", \"OPERA\": \"Air Canada\", \"VLO_I\":226}]}\n",
    "\n",
    "\n",
    "Además se realizó un método GET, dicho método trae el historial de consultas que se le han realizado al servidor, este utiliza la misma api que el método anterior. \n"
   ]
  },
  {
   "attachments": {},
   "cell_type": "markdown",
   "metadata": {},
   "source": [
    "## Pregunta 4:\n",
    "Haz pruebas de estrés a la API con el modelo expuesto con al menos 50.000 requests durante 45 segundos.\n",
    "Para esto debes utilizar esta herramienta y presentar las métricas obtenidas."
   ]
  },
  {
   "attachments": {},
   "cell_type": "markdown",
   "metadata": {},
   "source": [
    "Cargamos en primera instancia la imagen de wrk desde docker: "
   ]
  },
  {
   "cell_type": "code",
   "execution_count": null,
   "metadata": {},
   "outputs": [],
   "source": [
    "! docker pull williamyeh/wrk"
   ]
  },
  {
   "attachments": {},
   "cell_type": "markdown",
   "metadata": {},
   "source": [
    "Hacemos un build del servidor desde docker:"
   ]
  },
  {
   "cell_type": "code",
   "execution_count": 11,
   "metadata": {},
   "outputs": [
    {
     "name": "stdout",
     "output_type": "stream",
     "text": [
      "Building web\n",
      "\u001b[1A\u001b[1B\u001b[0G\u001b[?25l[+] Building 0.0s (0/1)                                                         \n",
      "\u001b[?25h\u001b[1A\u001b[0G\u001b[?25l[+] Building 0.1s (2/2)                                                         \n",
      "\u001b[34m => [internal] load build definition from Dockerfile                       0.1s\n",
      "\u001b[0m\u001b[34m => => transferring dockerfile: 32B                                        0.0s\n",
      "\u001b[0m\u001b[34m => [internal] load .dockerignore                                          0.1s\n",
      "\u001b[0m\u001b[34m => => transferring context: 2B                                            0.0s\n",
      "\u001b[0m\u001b[?25h\u001b[1A\u001b[1A\u001b[1A\u001b[1A\u001b[1A\u001b[0G\u001b[?25l[+] Building 0.3s (2/3)                                                         \n",
      "\u001b[34m => [internal] load build definition from Dockerfile                       0.1s\n",
      "\u001b[0m\u001b[34m => => transferring dockerfile: 32B                                        0.0s\n",
      "\u001b[0m\u001b[34m => [internal] load .dockerignore                                          0.1s\n",
      "\u001b[0m\u001b[34m => => transferring context: 2B                                            0.0s\n",
      "\u001b[0m => [internal] load metadata for docker.io/library/python:3.8              0.1s\n",
      "\u001b[?25h\u001b[1A\u001b[1A\u001b[1A\u001b[1A\u001b[1A\u001b[1A\u001b[0G\u001b[?25l[+] Building 0.4s (2/3)                                                         \n",
      "\u001b[34m => [internal] load build definition from Dockerfile                       0.1s\n",
      "\u001b[0m\u001b[34m => => transferring dockerfile: 32B                                        0.0s\n",
      "\u001b[0m\u001b[34m => [internal] load .dockerignore                                          0.1s\n",
      "\u001b[0m\u001b[34m => => transferring context: 2B                                            0.0s\n",
      "\u001b[0m => [internal] load metadata for docker.io/library/python:3.8              0.3s\n",
      "\u001b[?25h\u001b[1A\u001b[1A\u001b[1A\u001b[1A\u001b[1A\u001b[1A\u001b[0G\u001b[?25l[+] Building 0.6s (2/3)                                                         \n",
      "\u001b[34m => [internal] load build definition from Dockerfile                       0.1s\n",
      "\u001b[0m\u001b[34m => => transferring dockerfile: 32B                                        0.0s\n",
      "\u001b[0m\u001b[34m => [internal] load .dockerignore                                          0.1s\n",
      "\u001b[0m\u001b[34m => => transferring context: 2B                                            0.0s\n",
      "\u001b[0m => [internal] load metadata for docker.io/library/python:3.8              0.4s\n",
      "\u001b[?25h\u001b[1A\u001b[1A\u001b[1A\u001b[1A\u001b[1A\u001b[1A\u001b[0G\u001b[?25l[+] Building 0.7s (2/3)                                                         \n",
      "\u001b[34m => [internal] load build definition from Dockerfile                       0.1s\n",
      "\u001b[0m\u001b[34m => => transferring dockerfile: 32B                                        0.0s\n",
      "\u001b[0m\u001b[34m => [internal] load .dockerignore                                          0.1s\n",
      "\u001b[0m\u001b[34m => => transferring context: 2B                                            0.0s\n",
      "\u001b[0m => [internal] load metadata for docker.io/library/python:3.8              0.6s\n",
      "\u001b[?25h\u001b[1A\u001b[1A\u001b[1A\u001b[1A\u001b[1A\u001b[1A\u001b[0G\u001b[?25l[+] Building 0.9s (2/3)                                                         \n",
      "\u001b[34m => [internal] load build definition from Dockerfile                       0.1s\n",
      "\u001b[0m\u001b[34m => => transferring dockerfile: 32B                                        0.0s\n",
      "\u001b[0m\u001b[34m => [internal] load .dockerignore                                          0.1s\n",
      "\u001b[0m\u001b[34m => => transferring context: 2B                                            0.0s\n",
      "\u001b[0m => [internal] load metadata for docker.io/library/python:3.8              0.7s\n",
      "\u001b[?25h\u001b[1A\u001b[1A\u001b[1A\u001b[1A\u001b[1A\u001b[1A\u001b[0G\u001b[?25l[+] Building 1.0s (2/3)                                                         \n",
      "\u001b[34m => [internal] load build definition from Dockerfile                       0.1s\n",
      "\u001b[0m\u001b[34m => => transferring dockerfile: 32B                                        0.0s\n",
      "\u001b[0m\u001b[34m => [internal] load .dockerignore                                          0.1s\n",
      "\u001b[0m\u001b[34m => => transferring context: 2B                                            0.0s\n",
      "\u001b[0m => [internal] load metadata for docker.io/library/python:3.8              0.9s\n",
      "\u001b[?25h\u001b[1A\u001b[1A\u001b[1A\u001b[1A\u001b[1A\u001b[1A\u001b[0G\u001b[?25l[+] Building 1.2s (2/3)                                                         \n",
      "\u001b[34m => [internal] load build definition from Dockerfile                       0.1s\n",
      "\u001b[0m\u001b[34m => => transferring dockerfile: 32B                                        0.0s\n",
      "\u001b[0m\u001b[34m => [internal] load .dockerignore                                          0.1s\n",
      "\u001b[0m\u001b[34m => => transferring context: 2B                                            0.0s\n",
      "\u001b[0m => [internal] load metadata for docker.io/library/python:3.8              1.0s\n",
      "\u001b[?25h\u001b[1A\u001b[1A\u001b[1A\u001b[1A\u001b[1A\u001b[1A\u001b[0G\u001b[?25l[+] Building 1.3s (2/3)                                                         \n",
      "\u001b[34m => [internal] load build definition from Dockerfile                       0.1s\n",
      "\u001b[0m\u001b[34m => => transferring dockerfile: 32B                                        0.0s\n",
      "\u001b[0m\u001b[34m => [internal] load .dockerignore                                          0.1s\n",
      "\u001b[0m\u001b[34m => => transferring context: 2B                                            0.0s\n",
      "\u001b[0m => [internal] load metadata for docker.io/library/python:3.8              1.2s\n",
      "\u001b[?25h\u001b[1A\u001b[1A\u001b[1A\u001b[1A\u001b[1A\u001b[1A\u001b[0G\u001b[?25l[+] Building 1.5s (2/3)                                                         \n",
      "\u001b[34m => [internal] load build definition from Dockerfile                       0.1s\n",
      "\u001b[0m\u001b[34m => => transferring dockerfile: 32B                                        0.0s\n",
      "\u001b[0m\u001b[34m => [internal] load .dockerignore                                          0.1s\n",
      "\u001b[0m\u001b[34m => => transferring context: 2B                                            0.0s\n",
      "\u001b[0m => [internal] load metadata for docker.io/library/python:3.8              1.3s\n",
      "\u001b[?25h\u001b[1A\u001b[1A\u001b[1A\u001b[1A\u001b[1A\u001b[1A\u001b[0G\u001b[?25l[+] Building 1.6s (2/3)                                                         \n",
      "\u001b[34m => [internal] load build definition from Dockerfile                       0.1s\n",
      "\u001b[0m\u001b[34m => => transferring dockerfile: 32B                                        0.0s\n",
      "\u001b[0m\u001b[34m => [internal] load .dockerignore                                          0.1s\n",
      "\u001b[0m\u001b[34m => => transferring context: 2B                                            0.0s\n",
      "\u001b[0m => [internal] load metadata for docker.io/library/python:3.8              1.5s\n",
      "\u001b[?25h\u001b[1A\u001b[1A\u001b[1A\u001b[1A\u001b[1A\u001b[1A\u001b[0G\u001b[?25l[+] Building 1.8s (2/3)                                                         \n",
      "\u001b[34m => [internal] load build definition from Dockerfile                       0.1s\n",
      "\u001b[0m\u001b[34m => => transferring dockerfile: 32B                                        0.0s\n",
      "\u001b[0m\u001b[34m => [internal] load .dockerignore                                          0.1s\n",
      "\u001b[0m\u001b[34m => => transferring context: 2B                                            0.0s\n",
      "\u001b[0m => [internal] load metadata for docker.io/library/python:3.8              1.6s\n",
      "\u001b[?25h\u001b[1A\u001b[1A\u001b[1A\u001b[1A\u001b[1A\u001b[1A\u001b[0G\u001b[?25l[+] Building 1.9s (2/3)                                                         \n",
      "\u001b[34m => [internal] load build definition from Dockerfile                       0.1s\n",
      "\u001b[0m\u001b[34m => => transferring dockerfile: 32B                                        0.0s\n",
      "\u001b[0m\u001b[34m => [internal] load .dockerignore                                          0.1s\n",
      "\u001b[0m\u001b[34m => => transferring context: 2B                                            0.0s\n",
      "\u001b[0m => [internal] load metadata for docker.io/library/python:3.8              1.8s\n",
      "\u001b[?25h\u001b[1A\u001b[1A\u001b[1A\u001b[1A\u001b[1A\u001b[1A\u001b[0G\u001b[?25l[+] Building 2.1s (2/3)                                                         \n",
      "\u001b[34m => [internal] load build definition from Dockerfile                       0.1s\n",
      "\u001b[0m\u001b[34m => => transferring dockerfile: 32B                                        0.0s\n",
      "\u001b[0m\u001b[34m => [internal] load .dockerignore                                          0.1s\n",
      "\u001b[0m\u001b[34m => => transferring context: 2B                                            0.0s\n",
      "\u001b[0m => [internal] load metadata for docker.io/library/python:3.8              1.9s\n",
      "\u001b[?25h\u001b[1A\u001b[1A\u001b[1A\u001b[1A\u001b[1A\u001b[1A\u001b[0G\u001b[?25l[+] Building 2.2s (2/3)                                                         \n",
      "\u001b[34m => [internal] load build definition from Dockerfile                       0.1s\n",
      "\u001b[0m\u001b[34m => => transferring dockerfile: 32B                                        0.0s\n",
      "\u001b[0m\u001b[34m => [internal] load .dockerignore                                          0.1s\n",
      "\u001b[0m\u001b[34m => => transferring context: 2B                                            0.0s\n",
      "\u001b[0m => [internal] load metadata for docker.io/library/python:3.8              2.1s\n",
      "\u001b[?25h\u001b[1A\u001b[1A\u001b[1A\u001b[1A\u001b[1A\u001b[1A\u001b[0G\u001b[?25l[+] Building 2.4s (2/3)                                                         \n",
      "\u001b[34m => [internal] load build definition from Dockerfile                       0.1s\n",
      "\u001b[0m\u001b[34m => => transferring dockerfile: 32B                                        0.0s\n",
      "\u001b[0m\u001b[34m => [internal] load .dockerignore                                          0.1s\n",
      "\u001b[0m\u001b[34m => => transferring context: 2B                                            0.0s\n",
      "\u001b[0m => [internal] load metadata for docker.io/library/python:3.8              2.2s\n",
      "\u001b[?25h\u001b[1A\u001b[1A\u001b[1A\u001b[1A\u001b[1A\u001b[1A\u001b[0G\u001b[?25l[+] Building 2.5s (2/3)                                                         \n",
      "\u001b[34m => [internal] load build definition from Dockerfile                       0.1s\n",
      "\u001b[0m\u001b[34m => => transferring dockerfile: 32B                                        0.0s\n",
      "\u001b[0m\u001b[34m => [internal] load .dockerignore                                          0.1s\n",
      "\u001b[0m\u001b[34m => => transferring context: 2B                                            0.0s\n",
      "\u001b[0m => [internal] load metadata for docker.io/library/python:3.8              2.4s\n",
      "\u001b[?25h\u001b[1A\u001b[1A\u001b[1A\u001b[1A\u001b[1A\u001b[1A\u001b[0G\u001b[?25l[+] Building 2.7s (4/10)                                                        \n",
      "\u001b[34m => [internal] load build definition from Dockerfile                       0.1s\n",
      "\u001b[0m\u001b[34m => => transferring dockerfile: 32B                                        0.0s\n",
      "\u001b[0m\u001b[34m => [internal] load .dockerignore                                          0.1s\n",
      "\u001b[0m\u001b[34m => => transferring context: 2B                                            0.0s\n",
      "\u001b[0m\u001b[34m => [internal] load metadata for docker.io/library/python:3.8              2.4s\n",
      "\u001b[0m\u001b[34m => [1/6] FROM docker.io/library/python:3.8@sha256:90a35121aa2d413711ed40  0.0s\n",
      "\u001b[0m => [internal] load build context                                          0.1s\n",
      " => => transferring context: 30B                                           0.1s\n",
      "\u001b[?25h\u001b[1A\u001b[1A\u001b[1A\u001b[1A\u001b[1A\u001b[1A\u001b[1A\u001b[1A\u001b[1A\u001b[0G\u001b[?25l[+] Building 2.8s (4/10)                                                        \n",
      "\u001b[34m => [internal] load build definition from Dockerfile                       0.1s\n",
      "\u001b[0m\u001b[34m => => transferring dockerfile: 32B                                        0.0s\n",
      "\u001b[0m\u001b[34m => [internal] load .dockerignore                                          0.1s\n",
      "\u001b[0m\u001b[34m => => transferring context: 2B                                            0.0s\n",
      "\u001b[0m\u001b[34m => [internal] load metadata for docker.io/library/python:3.8              2.4s\n",
      "\u001b[0m\u001b[34m => [1/6] FROM docker.io/library/python:3.8@sha256:90a35121aa2d413711ed40  0.0s\n",
      "\u001b[0m => [internal] load build context                                          0.2s\n",
      " => => transferring context: 139.63kB                                      0.2s\n",
      "\u001b[?25h\u001b[1A\u001b[1A\u001b[1A\u001b[1A\u001b[1A\u001b[1A\u001b[1A\u001b[1A\u001b[1A\u001b[0G\u001b[?25l[+] Building 3.0s (4/10)                                                        \n",
      "\u001b[34m => [internal] load build definition from Dockerfile                       0.1s\n",
      "\u001b[0m\u001b[34m => => transferring dockerfile: 32B                                        0.0s\n",
      "\u001b[0m\u001b[34m => [internal] load .dockerignore                                          0.1s\n",
      "\u001b[0m\u001b[34m => => transferring context: 2B                                            0.0s\n",
      "\u001b[0m\u001b[34m => [internal] load metadata for docker.io/library/python:3.8              2.4s\n",
      "\u001b[0m\u001b[34m => [1/6] FROM docker.io/library/python:3.8@sha256:90a35121aa2d413711ed40  0.0s\n",
      "\u001b[0m => [internal] load build context                                          0.3s\n",
      " => => transferring context: 140.60kB                                      0.3s\n",
      "\u001b[?25h\u001b[1A\u001b[1A\u001b[1A\u001b[1A\u001b[1A\u001b[1A\u001b[1A\u001b[1A\u001b[1A\u001b[0G\u001b[?25l[+] Building 3.1s (4/10)                                                        \n",
      "\u001b[34m => [internal] load build definition from Dockerfile                       0.1s\n",
      "\u001b[0m\u001b[34m => => transferring dockerfile: 32B                                        0.0s\n",
      "\u001b[0m\u001b[34m => [internal] load .dockerignore                                          0.1s\n",
      "\u001b[0m\u001b[34m => => transferring context: 2B                                            0.0s\n",
      "\u001b[0m\u001b[34m => [internal] load metadata for docker.io/library/python:3.8              2.4s\n",
      "\u001b[0m\u001b[34m => [1/6] FROM docker.io/library/python:3.8@sha256:90a35121aa2d413711ed40  0.0s\n",
      "\u001b[0m => [internal] load build context                                          0.5s\n",
      " => => transferring context: 141.04kB                                      0.5s\n",
      "\u001b[?25h\u001b[1A\u001b[1A\u001b[1A\u001b[1A\u001b[1A\u001b[1A\u001b[1A\u001b[1A\u001b[1A\u001b[0G\u001b[?25l[+] Building 3.2s (4/10)                                                        \n",
      "\u001b[34m => [internal] load build definition from Dockerfile                       0.1s\n",
      "\u001b[0m\u001b[34m => => transferring dockerfile: 32B                                        0.0s\n",
      "\u001b[0m\u001b[34m => [internal] load .dockerignore                                          0.1s\n",
      "\u001b[0m\u001b[34m => => transferring context: 2B                                            0.0s\n",
      "\u001b[0m\u001b[34m => [internal] load metadata for docker.io/library/python:3.8              2.4s\n",
      "\u001b[0m\u001b[34m => [1/6] FROM docker.io/library/python:3.8@sha256:90a35121aa2d413711ed40  0.0s\n",
      "\u001b[0m => [internal] load build context                                          0.6s\n",
      " => => transferring context: 141.56kB                                      0.6s\n",
      "\u001b[?25h\u001b[1A\u001b[1A\u001b[1A\u001b[1A\u001b[1A\u001b[1A\u001b[1A\u001b[1A\u001b[1A\u001b[0G\u001b[?25l[+] Building 3.3s (4/10)                                                        \n",
      "\u001b[34m => [internal] load build definition from Dockerfile                       0.1s\n",
      "\u001b[0m\u001b[34m => => transferring dockerfile: 32B                                        0.0s\n",
      "\u001b[0m\u001b[34m => [internal] load .dockerignore                                          0.1s\n",
      "\u001b[0m\u001b[34m => => transferring context: 2B                                            0.0s\n",
      "\u001b[0m\u001b[34m => [internal] load metadata for docker.io/library/python:3.8              2.4s\n",
      "\u001b[0m\u001b[34m => [1/6] FROM docker.io/library/python:3.8@sha256:90a35121aa2d413711ed40  0.0s\n",
      "\u001b[0m => [internal] load build context                                          0.7s\n",
      " => => transferring context: 142.15kB                                      0.7s\n",
      "\u001b[?25h\u001b[1A\u001b[1A\u001b[1A\u001b[1A\u001b[1A\u001b[1A\u001b[1A\u001b[1A\u001b[1A\u001b[0G\u001b[?25l[+] Building 3.4s (4/10)                                                        \n",
      "\u001b[34m => [internal] load build definition from Dockerfile                       0.1s\n",
      "\u001b[0m\u001b[34m => => transferring dockerfile: 32B                                        0.0s\n",
      "\u001b[0m\u001b[34m => [internal] load .dockerignore                                          0.1s\n",
      "\u001b[0m\u001b[34m => => transferring context: 2B                                            0.0s\n",
      "\u001b[0m\u001b[34m => [internal] load metadata for docker.io/library/python:3.8              2.4s\n",
      "\u001b[0m\u001b[34m => [1/6] FROM docker.io/library/python:3.8@sha256:90a35121aa2d413711ed40  0.0s\n",
      "\u001b[0m => [internal] load build context                                          0.8s\n",
      " => => transferring context: 142.60kB                                      0.8s\n",
      "\u001b[?25h\u001b[1A\u001b[1A\u001b[1A\u001b[1A\u001b[1A\u001b[1A\u001b[1A\u001b[1A\u001b[1A\u001b[0G\u001b[?25l[+] Building 3.5s (8/10)                                                        \n",
      "\u001b[34m => [internal] load build definition from Dockerfile                       0.1s\n",
      "\u001b[0m\u001b[34m => => transferring dockerfile: 32B                                        0.0s\n",
      "\u001b[0m\u001b[34m => [internal] load .dockerignore                                          0.1s\n",
      "\u001b[0m\u001b[34m => => transferring context: 2B                                            0.0s\n",
      "\u001b[0m\u001b[34m => [internal] load metadata for docker.io/library/python:3.8              2.4s\n",
      "\u001b[0m\u001b[34m => [1/6] FROM docker.io/library/python:3.8@sha256:90a35121aa2d413711ed40  0.0s\n",
      "\u001b[0m\u001b[34m => [internal] load build context                                          0.9s\n",
      "\u001b[0m\u001b[34m => => transferring context: 142.81kB                                      0.8s\n",
      "\u001b[0m\u001b[34m => CACHED [2/6] WORKDIR /backend                                          0.0s\n",
      "\u001b[0m\u001b[34m => CACHED [3/6] COPY requirements.txt requirements.txt                    0.0s\n",
      "\u001b[0m\u001b[34m => CACHED [4/6] RUN pip3 install --upgrade pip && pip3 install -r requir  0.0s\n",
      "\u001b[0m => [5/6] COPY . .                                                         0.1s\n",
      "\u001b[?25h\u001b[1A\u001b[1A\u001b[1A\u001b[1A\u001b[1A\u001b[1A\u001b[1A\u001b[1A\u001b[1A\u001b[1A\u001b[1A\u001b[1A\u001b[1A\u001b[0G\u001b[?25l[+] Building 3.7s (9/10)                                                        \n",
      "\u001b[34m => [internal] load build definition from Dockerfile                       0.1s\n",
      "\u001b[0m\u001b[34m => => transferring dockerfile: 32B                                        0.0s\n",
      "\u001b[0m\u001b[34m => [internal] load .dockerignore                                          0.1s\n",
      "\u001b[0m\u001b[34m => => transferring context: 2B                                            0.0s\n",
      "\u001b[0m\u001b[34m => [internal] load metadata for docker.io/library/python:3.8              2.4s\n",
      "\u001b[0m\u001b[34m => [1/6] FROM docker.io/library/python:3.8@sha256:90a35121aa2d413711ed40  0.0s\n",
      "\u001b[0m\u001b[34m => [internal] load build context                                          0.9s\n",
      "\u001b[0m\u001b[34m => => transferring context: 142.81kB                                      0.8s\n",
      "\u001b[0m\u001b[34m => CACHED [2/6] WORKDIR /backend                                          0.0s\n",
      "\u001b[0m\u001b[34m => CACHED [3/6] COPY requirements.txt requirements.txt                    0.0s\n",
      "\u001b[0m\u001b[34m => CACHED [4/6] RUN pip3 install --upgrade pip && pip3 install -r requir  0.0s\n",
      "\u001b[0m\u001b[34m => [5/6] COPY . .                                                         0.1s\n",
      "\u001b[0m => [6/6] WORKDIR /backend                                                 0.1s\n",
      "\u001b[?25h\u001b[1A\u001b[1A\u001b[1A\u001b[1A\u001b[1A\u001b[1A\u001b[1A\u001b[1A\u001b[1A\u001b[1A\u001b[1A\u001b[1A\u001b[1A\u001b[1A\u001b[0G\u001b[?25l[+] Building 3.8s (10/11)                                                       \n",
      "\u001b[34m => [internal] load build definition from Dockerfile                       0.1s\n",
      "\u001b[0m\u001b[34m => => transferring dockerfile: 32B                                        0.0s\n",
      "\u001b[0m\u001b[34m => [internal] load .dockerignore                                          0.1s\n",
      "\u001b[0m\u001b[34m => => transferring context: 2B                                            0.0s\n",
      "\u001b[0m\u001b[34m => [internal] load metadata for docker.io/library/python:3.8              2.4s\n",
      "\u001b[0m\u001b[34m => [1/6] FROM docker.io/library/python:3.8@sha256:90a35121aa2d413711ed40  0.0s\n",
      "\u001b[0m\u001b[34m => [internal] load build context                                          0.9s\n",
      "\u001b[0m\u001b[34m => => transferring context: 142.81kB                                      0.8s\n",
      "\u001b[0m\u001b[34m => CACHED [2/6] WORKDIR /backend                                          0.0s\n",
      "\u001b[0m\u001b[34m => CACHED [3/6] COPY requirements.txt requirements.txt                    0.0s\n",
      "\u001b[0m\u001b[34m => CACHED [4/6] RUN pip3 install --upgrade pip && pip3 install -r requir  0.0s\n",
      "\u001b[0m\u001b[34m => [5/6] COPY . .                                                         0.1s\n",
      "\u001b[0m\u001b[34m => [6/6] WORKDIR /backend                                                 0.1s\n",
      "\u001b[0m => exporting to image                                                     0.1s\n",
      "\u001b[34m => => exporting layers                                                    0.1s\n",
      "\u001b[0m\u001b[?25h\u001b[1A\u001b[1A\u001b[1A\u001b[1A\u001b[1A\u001b[1A\u001b[1A\u001b[1A\u001b[1A\u001b[1A\u001b[1A\u001b[1A\u001b[1A\u001b[1A\u001b[1A\u001b[1A\u001b[0G\u001b[?25l[+] Building 3.9s (11/11) FINISHED                                              \n",
      "\u001b[34m => [internal] load build definition from Dockerfile                       0.1s\n",
      "\u001b[0m\u001b[34m => => transferring dockerfile: 32B                                        0.0s\n",
      "\u001b[0m\u001b[34m => [internal] load .dockerignore                                          0.1s\n",
      "\u001b[0m\u001b[34m => => transferring context: 2B                                            0.0s\n",
      "\u001b[0m\u001b[34m => [internal] load metadata for docker.io/library/python:3.8              2.4s\n",
      "\u001b[0m\u001b[34m => [1/6] FROM docker.io/library/python:3.8@sha256:90a35121aa2d413711ed40  0.0s\n",
      "\u001b[0m\u001b[34m => [internal] load build context                                          0.9s\n",
      "\u001b[0m\u001b[34m => => transferring context: 142.81kB                                      0.8s\n",
      "\u001b[0m\u001b[34m => CACHED [2/6] WORKDIR /backend                                          0.0s\n",
      "\u001b[0m\u001b[34m => CACHED [3/6] COPY requirements.txt requirements.txt                    0.0s\n",
      "\u001b[0m\u001b[34m => CACHED [4/6] RUN pip3 install --upgrade pip && pip3 install -r requir  0.0s\n",
      "\u001b[0m\u001b[34m => [5/6] COPY . .                                                         0.1s\n",
      "\u001b[0m\u001b[34m => [6/6] WORKDIR /backend                                                 0.1s\n",
      "\u001b[0m\u001b[34m => exporting to image                                                     0.2s\n",
      "\u001b[0m\u001b[34m => => exporting layers                                                    0.1s\n",
      "\u001b[0m\u001b[34m => => writing image sha256:c6aecc2426df9f032b4cd2895746617f2a92bd9601a4a  0.0s\n",
      "\u001b[0m\u001b[34m => => naming to docker.io/library/neuralworkschallenge_web                0.0s\n",
      "\u001b[0m\u001b[?25h\n",
      "Use 'docker scan' to run Snyk tests against images to find vulnerabilities and learn how to fix them\n"
     ]
    }
   ],
   "source": [
    "! docker-compose build"
   ]
  },
  {
   "attachments": {},
   "cell_type": "markdown",
   "metadata": {},
   "source": [
    "Levantamos el servidor en docker. "
   ]
  },
  {
   "cell_type": "code",
   "execution_count": 210,
   "metadata": {},
   "outputs": [
    {
     "name": "stdout",
     "output_type": "stream",
     "text": [
      "neuralworkschallenge_web_1 is up-to-date\n"
     ]
    }
   ],
   "source": [
    "! docker-compose up -d"
   ]
  },
  {
   "attachments": {},
   "cell_type": "markdown",
   "metadata": {},
   "source": [
    "### 11.1 POST Method: \n",
    "\n",
    "A modo de muestras se agrega el script que se utilizará para realizar las pruebas de estrés. \n",
    "\n",
    "%% Inicio %%\n",
    "\n",
    "wrk.method = \"POST\"\n",
    "\n",
    "wrk.body = '{\"vuelos\": [{\"MES\": 3,\"TIPOVUELO\": \"N\", \"OPERA\": \"K.L.M.\", \"VLO_I\": 226}, {\"MES\": 12,\"TIPOVUELO\": \"I\", \"OPERA\": \"Air Canada\", \"VLO_I\":226}]}'\n",
    "\n",
    "wrk.headers[\"Content-Type\"] = \"application/json\""
   ]
  },
  {
   "cell_type": "code",
   "execution_count": 10,
   "metadata": {},
   "outputs": [
    {
     "name": "stdout",
     "output_type": "stream",
     "text": [
      "Running 45s test @ http://host.docker.internal:8000/api/estaAtrasado\n",
      "  10 threads and 50000 connections\n",
      "  Thread Stats   Avg      Stdev     Max   +/- Stdev\n",
      "    Latency     0.00us    0.00us   0.00us    -nan%\n",
      "    Req/Sec     0.00      0.00     0.00      -nan%\n",
      "  0 requests in 1.83m, 0.00B read\n",
      "  Socket errors: connect 21637, read 0, write 305, timeout 0\n",
      "Requests/sec:      0.00\n",
      "Transfer/sec:       0.00B\n"
     ]
    }
   ],
   "source": [
    "! docker run --net=\"host\" --rm -v `pwd`/scripts:/scripts williamyeh/wrk -t10 -c50000 -d45s -s /scripts/post_test.lua http://host.docker.internal:8000/api/estaAtrasado"
   ]
  },
  {
   "attachments": {},
   "cell_type": "markdown",
   "metadata": {},
   "source": [
    "### 11.1 Método Get: "
   ]
  },
  {
   "cell_type": "code",
   "execution_count": 5,
   "metadata": {},
   "outputs": [
    {
     "name": "stdout",
     "output_type": "stream",
     "text": [
      "Running 45s test @ http://host.docker.internal:8000/api/estaAtrasado\n",
      "  100 threads and 50000 connections\n",
      "  Thread Stats   Avg      Stdev     Max   +/- Stdev\n",
      "    Latency     0.00us    0.00us   0.00us    -nan%\n",
      "    Req/Sec     0.00      0.00     0.00      -nan%\n",
      "  0 requests in 1.01m, 1.43KB read\n",
      "  Socket errors: connect 20906, read 0, write 817, timeout 0\n",
      "Requests/sec:      0.00\n",
      "Transfer/sec:      24.09B\n"
     ]
    }
   ],
   "source": [
    "! docker run --net=\"host\" --rm -v scripts:/scripts williamyeh/wrk -t10000 -c50000 -d45s http://host.docker.internal:8000/api/estaAtrasado"
   ]
  },
  {
   "attachments": {},
   "cell_type": "markdown",
   "metadata": {},
   "source": [
    "## 12. Propuesta de Mejora"
   ]
  },
  {
   "attachments": {},
   "cell_type": "markdown",
   "metadata": {},
   "source": [
    "Los resultados anteriores muestran que la api desarrollada tiene problemas al momento de trabajar con las 50000 conexiones, en específico se cree que el problema más que en la api en específico se debe a la configuración del servidor y a los recursos disponibles, ya que este se queda sin recursos al correr el test. De este modo como propuesta de mejora, se propone utilizar el caché en los request del servidor que sean muy frecuentes de manera de utilizar dichos resultados y no utilizar recursos con casos en que ya se tiene los resultados, esto sería especialmente útil en caso de un avión que ya haya sido ingresado y por ende no tenga necesidad de ingresarse nuevamente como consulta. \n",
    "\n",
    "Además, se cree que ante la gran cantidad de request que llegan según lo testeado anteriormente, se podría utilizar computación distributiva de manera de permitir que la carga total de las consultas no esté centrada en un solo computador, sino que en varios de manera de simplificar la carga. Además es posible utilizar aplicaciones cloud que están justamente planteadas como soluciones para los casos de obtención masiva de datos. \n",
    "\n",
    "Por último, otra posible mejora a la api propuesta es la utilización de apis asíncronas, las cuales permitan que las consultas sean recibidas por parte del servidor pero no sea necesario mantener una sesión abierta con el cliente. De esta manera se podría bajar la carga que generan conexiones abiertas. "
   ]
  },
  {
   "attachments": {},
   "cell_type": "markdown",
   "metadata": {},
   "source": []
  }
 ],
 "metadata": {
  "kernelspec": {
   "display_name": "NeuralWorks",
   "language": "python",
   "name": "python3"
  },
  "language_info": {
   "codemirror_mode": {
    "name": "ipython",
    "version": 3
   },
   "file_extension": ".py",
   "mimetype": "text/x-python",
   "name": "python",
   "nbconvert_exporter": "python",
   "pygments_lexer": "ipython3",
   "version": "3.8.16"
  },
  "orig_nbformat": 4,
  "vscode": {
   "interpreter": {
    "hash": "d2ed49078c845dd85efea63a3cf8cac56d10a44a0e1e45ce190381046efb82b9"
   }
  }
 },
 "nbformat": 4,
 "nbformat_minor": 2
}
